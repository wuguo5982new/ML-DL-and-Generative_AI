{
 "cells": [
  {
   "cell_type": "code",
   "execution_count": 3,
   "metadata": {},
   "outputs": [
    {
     "data": {
      "text/plain": [
       "(1990, 784)"
      ]
     },
     "execution_count": 3,
     "metadata": {},
     "output_type": "execute_result"
    }
   ],
   "source": [
    "import math\n",
    "import pandas as pd\n",
    "import scipy.io\n",
    "import scipy as sp\n",
    "import matplotlib.pyplot as plt\n",
    "import matplotlib.image as mpimg\n",
    "from scipy.stats import multivariate_normal\n",
    "from functools import reduce\n",
    "import numpy as np\n",
    "%matplotlib inline\n",
    "\n",
    "import seaborn as sns\n",
    "from matplotlib import pyplot as plt\n",
    "%matplotlib inline\n",
    "\n",
    "mat = scipy.io.loadmat('data.mat')\n",
    "data = mat['data'].T\n",
    "data.shape"
   ]
  },
  {
   "cell_type": "code",
   "execution_count": 4,
   "metadata": {},
   "outputs": [
    {
     "data": {
      "text/plain": [
       "(1, 1990)"
      ]
     },
     "execution_count": 4,
     "metadata": {},
     "output_type": "execute_result"
    }
   ],
   "source": [
    "lab = scipy.io.loadmat('label.mat')\n",
    "label = lab['trueLabel']\n",
    "label.shape"
   ]
  },
  {
   "cell_type": "code",
   "execution_count": 5,
   "metadata": {},
   "outputs": [
    {
     "data": {
      "text/plain": [
       "(784,)"
      ]
     },
     "execution_count": 5,
     "metadata": {},
     "output_type": "execute_result"
    },
    {
     "data": {
      "image/png": "[encoded data removed]",
      "text/plain": [
       "<Figure size 432x288 with 2 Axes>"
      ]
     },
     "metadata": {
      "needs_background": "light"
     },
     "output_type": "display_data"
    }
   ],
   "source": [
    "f = plt.figure()\n",
    "f.add_subplot(1,2,1)\n",
    "plt.imshow((data[500,:].reshape(28,28)).T, cmap='gray')\n",
    "f.add_subplot(1,2,2)\n",
    "plt.imshow((data[-1,:].reshape(28,28)).T, cmap='gray')\n",
    "data[500,:].shape"
   ]
  },
  {
   "cell_type": "code",
   "execution_count": 6,
   "metadata": {},
   "outputs": [
    {
     "data": {
      "text/plain": [
       "((784, 10), (1990, 10))"
      ]
     },
     "execution_count": 6,
     "metadata": {},
     "output_type": "execute_result"
    }
   ],
   "source": [
    "# PCA (set r = 10)\n",
    "new_data = data - np.mean(data, axis=0)\n",
    "C = np.cov(new_data)\n",
    "eigenvalue, eigenvectors = np.linalg.eigh(C)\n",
    "#print(eigenvalue.shape, eigenvectors.shape)\n",
    "\n",
    "eigenvectors = eigenvectors[:, np.argsort(-eigenvalue)]\n",
    "eigenvalue = eigenvalue[np.argsort(-eigenvalue)]\n",
    "\n",
    "principals = eigenvectors[:,0:10]             # set r = 10\n",
    "#print(principals.shape, new_data.shape)\n",
    "\n",
    "transformed_data = np.dot(principals.T, new_data).T\n",
    "transformed_data.shape, principals.shape"
   ]
  },
  {
   "cell_type": "code",
   "execution_count": 7,
   "metadata": {},
   "outputs": [],
   "source": [
    "# Initialization\n",
    "init_covariances = np.identity(784)\n",
    "init_means = np.random.normal(0,1,784)\n",
    "init_weights = np.array([0.5,0.5])\n",
    "pi_1 = pi_2 = 0.5\n",
    "\n",
    "x_tilda = transformed_data\n",
    "mu_tilda_1 = x_tilda - init_means.reshape(784,1)\n",
    "lamb = [s for s in eigenvalue if s > 0.05]          # Truncate eigenvalue.\n",
    "\n",
    "N_1 = (1/np.product(lamb))**np.exp(-(np.sum((x_tilda - mu_tilda_1)**2)/np.sum(lamb))/2)\n"
   ]
  },
  {
   "cell_type": "code",
   "execution_count": 8,
   "metadata": {},
   "outputs": [
    {
     "name": "stdout",
     "output_type": "stream",
     "text": [
      "(1, 2)\n"
     ]
    }
   ],
   "source": [
    "# Calculate weights\n",
    "def response(data, weights, means, covariances):\n",
    "    n_data = len(data)\n",
    "    n_clusters = 2    \n",
    "    resp = np.zeros((n_data, n_clusters))\n",
    "    for i in range(n_data):\n",
    "        for k in range(n_clusters):\n",
    "            resp[i, k] = weights[k]* N_1\n",
    "    row_sums = resp.sum(axis=1)[:, np.newaxis]\n",
    "    resp = resp / row_sums\n",
    "    return resp\n",
    "resp_1 = response(data, init_weights, init_means, init_covariances)\n",
    "counts = np.sum(resp_1, axis=0)\n",
    "\n",
    "def get_weights(counts):\n",
    "    n_clusters = 2\n",
    "    k= 2\n",
    "    sum_count = np.sum(counts)\n",
    "    weights = np.array(list(map(lambda k : counts[k]/sum_count, range(n_clusters))))\n",
    "    return weights\n",
    "weights = get_weights(counts).reshape(1,2)\n",
    "print(weights.shape)"
   ]
  },
  {
   "cell_type": "code",
   "execution_count": 9,
   "metadata": {},
   "outputs": [],
   "source": [
    "def update_means(data, resp, counts):\n",
    "    n_clusters = 2\n",
    "    n_data = len(data)\n",
    "    means = np.zeros((n_clusters, len(data[0])))\n",
    "    \n",
    "    for k in range(n_clusters):\n",
    "        weighted_sum = reduce(lambda x,i : x + resp[i,k]*data[i],  range(n_data), 0.0)\n",
    "        means[k] = weighted_sum/counts[k]\n",
    "    return means\n",
    "means = update_means(data, resp_1, counts)"
   ]
  },
  {
   "cell_type": "code",
   "execution_count": 10,
   "metadata": {},
   "outputs": [],
   "source": [
    "def update_covariances(data, resp, counts, means):\n",
    "    n_clusters = 2\n",
    "    dimension = len(data[0]) # to get dimention of data\n",
    "    n_data = len(data)\n",
    "    covariances = np.zeros((n_clusters, dimension, dimension))\n",
    "    \n",
    "    for k in range(n_clusters):\n",
    "        weighted_sum = reduce (lambda x, i :x + resp[i,k] *  np.outer((data[i]-means[k]), (data[i]- means[k]).T), range(n_data), np.zeros((dimension, dimension)))\n",
    "        covariances[k] = weighted_sum /counts[k] \n",
    "    return covariances\n",
    "covs = update_covariances(data, resp_1, counts, init_means)\n"
   ]
  },
  {
   "cell_type": "code",
   "execution_count": 65,
   "metadata": {},
   "outputs": [],
   "source": [
    "# All together\n",
    "class GMM(object):\n",
    "    def __init__(self, data, k=2):\n",
    "        data = np.asarray(data)\n",
    "        self.m, self.n = data.shape\n",
    "        self.data = data.copy()\n",
    "        self.k = k\n",
    "        \n",
    "    def _init(self):\n",
    "        self.mean_arr = np.asmatrix(np.random.random((self.k, self.n)))\n",
    "        self.sigma_arr = np.array([np.asmatrix(np.identity(self.n)) for i in range(self.k)])\n",
    "        self.phi = np.ones(self.k)/self.k\n",
    "        self.w = np.asmatrix(np.zeros((self.m, self.k), dtype=float))\n",
    "        \n",
    "    def loglikelihood(self):\n",
    "        ll = 0\n",
    "        for i in range(self.m):\n",
    "            tmp = 0\n",
    "            for j in range(self.k):\n",
    "                tmp += sp.stats.multivariate_normal.pdf(self.data[i, :],self.mean_arr[j, :].A1, \n",
    "                                                        self.sigma_arr[j, :])*self.phi[j]\n",
    "            ll += np.log(tmp)\n",
    "        return ll\n",
    "    \n",
    "    def fit(self, tol=1e-6):\n",
    "        self._init()\n",
    "        num_iters = 0\n",
    "        ll = 1\n",
    "        old_ll = 0\n",
    "        xx = []\n",
    "        yy = []\n",
    "        while(ll-old_ll > tol):\n",
    "            old_ll = self.loglikelihood()\n",
    "            self._fit()\n",
    "            num_iters += 1\n",
    "            ll = self.loglikelihood()\n",
    "            xx.append(num_iters)\n",
    "            yy.append(ll)           \n",
    "            print('Iteration %d: log-likelihood is %.2f'%(num_iters, ll))\n",
    "        print('Terminate at %d-th iteration:log-likelihood is %.2f'%(num_iters, ll))\n",
    "        plt.plot(xx,yy)\n",
    "        plt.xlabel(\"Number of iterations\")\n",
    "        plt.ylabel(\"Log-likelihood\")\n",
    "    \n",
    "    def _fit(self):\n",
    "        self.e_step()\n",
    "        self.m_step()\n",
    "        \n",
    "    def e_step(self):\n",
    "        # calculate w_j^{(i)}\n",
    "        for i in range(self.m):\n",
    "            den = 0\n",
    "            for j in range(self.k):\n",
    "                num = sp.stats.multivariate_normal.pdf(self.data[i, :], self.mean_arr[j].A1, \n",
    "                                                       self.sigma_arr[j]) * self.phi[j]\n",
    "                den += num\n",
    "                self.w[i, j] = num\n",
    "            self.w[i, :] /= den\n",
    "            assert self.w[i, :].sum() - 1 < 1e-3\n",
    "            \n",
    "    def m_step(self):\n",
    "        for j in range(self.k):\n",
    "            constant = self.w[:, j].sum()\n",
    "            self.phi[j] = 1/self.m * constant\n",
    "            mu_j = np.zeros(self.n)\n",
    "            sigma_j = np.zeros((self.n, self.n))\n",
    "            for i in range(self.m):\n",
    "                mu_j += (self.data[i, :] * self.w[i, j])\n",
    "                sigma_j += self.w[i, j] * ((self.data[i, :] - self.mean_arr[j, :]).T * (self.data[i, :] - self.mean_arr[j, :]))\n",
    "            self.mean_arr[j] = mu_j / constant\n",
    "            self.sigma_arr[j] = sigma_j / constant\n",
    "        #print(self.mean_arr)      \n",
    "\n",
    "    def predict_proba(self):\n",
    "        likelihood = np.zeros( (self.n, self.k) )\n",
    "        for i in range(self.k):\n",
    "            distribution = multivariate_normal(self.mean_arr[i], self.sigma_arr[i])\n",
    "            likelihood[:,i] = distribution.pdf(data)\n",
    "\n",
    "        numerator = self.loglikelihood()* self.w\n",
    "        denominator = numerator.sum(axis=1)[:, np.newaxis]\n",
    "        weights = numerator / denominator\n",
    "        return weights\n",
    "    \n",
    "    def predict(self):\n",
    "        weights = self.predict_proba()\n",
    "        return np.argmax(weights, axis=1)"
   ]
  },
  {
   "cell_type": "code",
   "execution_count": 66,
   "metadata": {},
   "outputs": [
    {
     "name": "stdout",
     "output_type": "stream",
     "text": [
      "Iteration 1: log-likelihood is -17433.63\n",
      "Iteration 2: log-likelihood is -17089.31\n",
      "Iteration 3: log-likelihood is -16261.27\n",
      "Iteration 4: log-likelihood is -14850.62\n",
      "Iteration 5: log-likelihood is -12839.63\n",
      "Iteration 6: log-likelihood is -10819.72\n",
      "Iteration 7: log-likelihood is -9214.60\n",
      "Iteration 8: log-likelihood is -7906.94\n",
      "Iteration 9: log-likelihood is -7237.18\n",
      "Iteration 10: log-likelihood is -6775.69\n",
      "Iteration 11: log-likelihood is -6423.47\n",
      "Iteration 12: log-likelihood is -6127.43\n",
      "Iteration 13: log-likelihood is -5819.07\n",
      "Iteration 14: log-likelihood is -5329.70\n",
      "Iteration 15: log-likelihood is -4974.56\n",
      "Iteration 16: log-likelihood is -4756.95\n",
      "Iteration 17: log-likelihood is -4598.93\n",
      "Iteration 18: log-likelihood is -4442.30\n",
      "Iteration 19: log-likelihood is -4277.90\n",
      "Iteration 20: log-likelihood is -4149.79\n",
      "Iteration 21: log-likelihood is -4052.51\n",
      "Iteration 22: log-likelihood is -3984.21\n",
      "Iteration 23: log-likelihood is -3969.35\n",
      "Iteration 24: log-likelihood is -3954.12\n",
      "Iteration 25: log-likelihood is -3907.79\n",
      "Iteration 26: log-likelihood is -3838.56\n",
      "Iteration 27: log-likelihood is -3810.87\n",
      "Iteration 28: log-likelihood is -3799.75\n",
      "Iteration 29: log-likelihood is -3763.40\n",
      "Iteration 30: log-likelihood is -3726.34\n",
      "Iteration 31: log-likelihood is -3712.24\n",
      "Iteration 32: log-likelihood is -3712.23\n",
      "Iteration 33: log-likelihood is -3712.23\n",
      "Iteration 34: log-likelihood is -3712.23\n",
      "Iteration 35: log-likelihood is -3712.23\n",
      "Iteration 36: log-likelihood is -3712.23\n",
      "Iteration 37: log-likelihood is -3712.23\n",
      "Iteration 38: log-likelihood is -3712.23\n",
      "Iteration 39: log-likelihood is -3712.23\n",
      "Iteration 40: log-likelihood is -3712.23\n",
      "Iteration 41: log-likelihood is -3712.22\n",
      "Iteration 42: log-likelihood is -3712.14\n",
      "Iteration 43: log-likelihood is -3710.25\n",
      "Iteration 44: log-likelihood is -3699.05\n",
      "Iteration 45: log-likelihood is -3675.66\n",
      "Iteration 46: log-likelihood is -3635.62\n",
      "Iteration 47: log-likelihood is -3635.58\n",
      "Iteration 48: log-likelihood is -3635.58\n",
      "Terminate at 48-th iteration:log-likelihood is -3635.58\n"
     ]
    },
    {
     "data": {
      "image/png": "[encoded data removed]",
      "text/plain": [
       "<Figure size 432x288 with 1 Axes>"
      ]
     },
     "metadata": {
      "needs_background": "light"
     },
     "output_type": "display_data"
    }
   ],
   "source": [
    "gmm = GMM(transformed_data)\n",
    "gmm.fit()"
   ]
  },
  {
   "cell_type": "code",
   "execution_count": 67,
   "metadata": {},
   "outputs": [
    {
     "data": {
      "text/plain": [
       "<matplotlib.image.AxesImage at 0x1aa2aec8308>"
      ]
     },
     "execution_count": 67,
     "metadata": {},
     "output_type": "execute_result"
    },
    {
     "data": {
      "image/png": "[encoded data removed]",
      "text/plain": [
       "<Figure size 432x288 with 1 Axes>"
      ]
     },
     "metadata": {
      "needs_background": "light"
     },
     "output_type": "display_data"
    }
   ],
   "source": [
    "## New Image\n",
    "mean = gmm.mean_arr\n",
    "new_image = np.dot(transformed_data,  mean[0].T).reshape(28,28)\n",
    "plt.imshow(new_image, cmap='gray')"
   ]
  },
  {
   "cell_type": "code",
   "execution_count": 133,
   "metadata": {},
   "outputs": [
    {
     "name": "stdout",
     "output_type": "stream",
     "text": [
      "K-mean classificaiton is:  [0 0 0 ... 0 1 1]\n",
      "True label for numbers classification is:  [[2 2 2 ... 6 6 6]]\n"
     ]
    }
   ],
   "source": [
    "# K-mean Classification\n",
    "from sklearn.cluster import KMeans\n",
    "kmeans = KMeans(n_clusters=2)\n",
    "kmeans.fit(data)\n",
    "y_kmeans = kmeans.predict(data)\n",
    "print(\"K-mean classificaiton is: \", y_kmeans)\n",
    "\n",
    "# True label\n",
    "lab = scipy.io.loadmat('label.mat')\n",
    "label = lab['trueLabel']\n",
    "print(\"True label for numbers classification is: \", label)"
   ]
  },
  {
   "cell_type": "code",
   "execution_count": 134,
   "metadata": {},
   "outputs": [
    {
     "name": "stdout",
     "output_type": "stream",
     "text": [
      "False Rate of Number 6 classification(K-Mean) is 0.4905\n",
      "False Rate of Number 2 classification (K-Mean) is 0.4472\n"
     ]
    }
   ],
   "source": [
    "# Calculate the rate of False (K-mean).\n",
    "False_1 = len([i for i in range(len(y_kmeans)) if y_kmeans[i] ==0 and label[0][i] == 2])\n",
    "False_Rate_1 = False_1/len(y_kmeans)\n",
    "print(\"False Rate of Number 6 classification(K-Mean) is %.4f\"%(False_Rate_1))\n",
    "\n",
    "\n",
    "False_2 = len([i for i in range(len(y_kmeans)) if y_kmeans[i] ==1 and label[0][i] == 6])\n",
    "False_Rate_2 = False_2/len(y_kmeans)\n",
    "print(\"False Rate of Number 2 classification (K-Mean) is %.4f\"%(False_Rate_2))"
   ]
  },
  {
   "cell_type": "code",
   "execution_count": 135,
   "metadata": {},
   "outputs": [],
   "source": [
    "# GMM Classification\n",
    "from sklearn.mixture import GaussianMixture\n",
    "gmm = GaussianMixture(n_components=2)\n",
    "gmm.fit(data)\n",
    "pred = gmm.predict(data)"
   ]
  },
  {
   "cell_type": "code",
   "execution_count": 137,
   "metadata": {},
   "outputs": [
    {
     "name": "stdout",
     "output_type": "stream",
     "text": [
      "False Rate of Number 6 classification (GMM) is 0.0266\n",
      "False Rate of Number 2 classification (GMM) is 0.0281\n"
     ]
    }
   ],
   "source": [
    "False_1 = len([i for i in range(len(y_kmeans)) if pred[i] ==0 and label[0][i] == 6])\n",
    "False_Rate_1 = False_1/len(y_kmeans)\n",
    "print(\"False Rate of Number 6 classification (GMM) is %.4f\"%(False_Rate_1))\n",
    "\n",
    "\n",
    "False_2 = len([i for i in range(len(y_kmeans)) if pred[i] ==1 and label[0][i] == 2])\n",
    "False_Rate_2 = False_2/len(y_kmeans)\n",
    "print(\"False Rate of Number 2 classification (GMM) is %.4f\"%(False_Rate_2))\n"
   ]
  },
  {
   "cell_type": "code",
   "execution_count": 126,
   "metadata": {},
   "outputs": [
    {
     "data": {
      "text/plain": [
       "(1990, 784)"
      ]
     },
     "execution_count": 126,
     "metadata": {},
     "output_type": "execute_result"
    }
   ],
   "source": []
  },
  {
   "cell_type": "code",
   "execution_count": null,
   "metadata": {},
   "outputs": [],
   "source": []
  }
 ],
 "metadata": {
  "kernelspec": {
   "display_name": "Python 3",
   "language": "python",
   "name": "python3"
  },
  "language_info": {
   "codemirror_mode": {
    "name": "ipython",
    "version": 3
   },
   "file_extension": ".py",
   "mimetype": "text/x-python",
   "name": "python",
   "nbconvert_exporter": "python",
   "pygments_lexer": "ipython3",
   "version": "3.7.4"
  },
  "toc": {
   "base_numbering": 1,
   "nav_menu": {},
   "number_sections": true,
   "sideBar": true,
   "skip_h1_title": false,
   "title_cell": "Table of Contents",
   "title_sidebar": "Contents",
   "toc_cell": false,
   "toc_position": {},
   "toc_section_display": true,
   "toc_window_display": false
  },
  "varInspector": {
   "cols": {
    "lenName": 16,
    "lenType": 16,
    "lenVar": 40
   },
   "kernels_config": {
    "python": {
     "delete_cmd_postfix": "",
     "delete_cmd_prefix": "del ",
     "library": "var_list.py",
     "varRefreshCmd": "print(var_dic_list())"
    },
    "r": {
     "delete_cmd_postfix": ") ",
     "delete_cmd_prefix": "rm(",
     "library": "var_list.r",
     "varRefreshCmd": "cat(var_dic_list()) "
    }
   },
   "types_to_exclude": [
    "module",
    "function",
    "builtin_function_or_method",
    "instance",
    "_Feature"
   ],
   "window_display": false
  }
 },
 "nbformat": 4,
 "nbformat_minor": 2
}
