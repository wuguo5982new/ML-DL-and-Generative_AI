{
 "cells": [
  {
   "cell_type": "markdown",
   "id": "3909db7e",
   "metadata": {},
   "source": [
    "# XGBoost model (AWS sagemaker)\n",
    "In this project, we used the AWS sagemaker build-in XGBoost algorithm for classification prediction, and compared this result to regular XGBoost framework (regularizing gradient boosting framework), both predicted reults are similar. "
   ]
  },
  {
   "cell_type": "code",
   "execution_count": 1,
   "id": "c7c1118f",
   "metadata": {},
   "outputs": [],
   "source": [
    "import os\n",
    "import pandas as pd\n",
    "import numpy as np\n",
    "import seaborn as sns\n",
    "import matplotlib.pyplot as plt\n",
    "from sklearn.metrics import accuracy_score\n",
    "import sklearn.model_selection"
   ]
  },
  {
   "cell_type": "markdown",
   "id": "864cff50",
   "metadata": {},
   "source": [
    "### EDA for training dataset"
   ]
  },
  {
   "cell_type": "code",
   "execution_count": 2,
   "id": "638b6171",
   "metadata": {},
   "outputs": [
    {
     "name": "stdout",
     "output_type": "stream",
     "text": [
      "(32561, 15)\n"
     ]
    },
    {
     "data": {
      "text/html": [
       "<div>\n",
       "<style scoped>\n",
       "    .dataframe tbody tr th:only-of-type {\n",
       "        vertical-align: middle;\n",
       "    }\n",
       "\n",
       "    .dataframe tbody tr th {\n",
       "        vertical-align: top;\n",
       "    }\n",
       "\n",
       "    .dataframe thead th {\n",
       "        text-align: right;\n",
       "    }\n",
       "</style>\n",
       "<table border=\"1\" class=\"dataframe\">\n",
       "  <thead>\n",
       "    <tr style=\"text-align: right;\">\n",
       "      <th></th>\n",
       "      <th>age</th>\n",
       "      <th>workclass</th>\n",
       "      <th>fnlwgt</th>\n",
       "      <th>education</th>\n",
       "      <th>education-num</th>\n",
       "      <th>marital-status</th>\n",
       "      <th>occupation</th>\n",
       "      <th>relationship</th>\n",
       "      <th>race</th>\n",
       "      <th>sex</th>\n",
       "      <th>capital-gain</th>\n",
       "      <th>capital-loss</th>\n",
       "      <th>hours-per-week</th>\n",
       "      <th>native-country</th>\n",
       "      <th>income</th>\n",
       "    </tr>\n",
       "  </thead>\n",
       "  <tbody>\n",
       "    <tr>\n",
       "      <th>0</th>\n",
       "      <td>39</td>\n",
       "      <td>State-gov</td>\n",
       "      <td>77516</td>\n",
       "      <td>Bachelors</td>\n",
       "      <td>13</td>\n",
       "      <td>Never-married</td>\n",
       "      <td>Adm-clerical</td>\n",
       "      <td>Not-in-family</td>\n",
       "      <td>White</td>\n",
       "      <td>Male</td>\n",
       "      <td>2174</td>\n",
       "      <td>0</td>\n",
       "      <td>40</td>\n",
       "      <td>United-States</td>\n",
       "      <td>&lt;=50K</td>\n",
       "    </tr>\n",
       "    <tr>\n",
       "      <th>1</th>\n",
       "      <td>50</td>\n",
       "      <td>Self-emp-not-inc</td>\n",
       "      <td>83311</td>\n",
       "      <td>Bachelors</td>\n",
       "      <td>13</td>\n",
       "      <td>Married-civ-spouse</td>\n",
       "      <td>Exec-managerial</td>\n",
       "      <td>Husband</td>\n",
       "      <td>White</td>\n",
       "      <td>Male</td>\n",
       "      <td>0</td>\n",
       "      <td>0</td>\n",
       "      <td>13</td>\n",
       "      <td>United-States</td>\n",
       "      <td>&lt;=50K</td>\n",
       "    </tr>\n",
       "    <tr>\n",
       "      <th>2</th>\n",
       "      <td>38</td>\n",
       "      <td>Private</td>\n",
       "      <td>215646</td>\n",
       "      <td>HS-grad</td>\n",
       "      <td>9</td>\n",
       "      <td>Divorced</td>\n",
       "      <td>Handlers-cleaners</td>\n",
       "      <td>Not-in-family</td>\n",
       "      <td>White</td>\n",
       "      <td>Male</td>\n",
       "      <td>0</td>\n",
       "      <td>0</td>\n",
       "      <td>40</td>\n",
       "      <td>United-States</td>\n",
       "      <td>&lt;=50K</td>\n",
       "    </tr>\n",
       "    <tr>\n",
       "      <th>3</th>\n",
       "      <td>53</td>\n",
       "      <td>Private</td>\n",
       "      <td>234721</td>\n",
       "      <td>11th</td>\n",
       "      <td>7</td>\n",
       "      <td>Married-civ-spouse</td>\n",
       "      <td>Handlers-cleaners</td>\n",
       "      <td>Husband</td>\n",
       "      <td>Black</td>\n",
       "      <td>Male</td>\n",
       "      <td>0</td>\n",
       "      <td>0</td>\n",
       "      <td>40</td>\n",
       "      <td>United-States</td>\n",
       "      <td>&lt;=50K</td>\n",
       "    </tr>\n",
       "    <tr>\n",
       "      <th>4</th>\n",
       "      <td>28</td>\n",
       "      <td>Private</td>\n",
       "      <td>338409</td>\n",
       "      <td>Bachelors</td>\n",
       "      <td>13</td>\n",
       "      <td>Married-civ-spouse</td>\n",
       "      <td>Prof-specialty</td>\n",
       "      <td>Wife</td>\n",
       "      <td>Black</td>\n",
       "      <td>Female</td>\n",
       "      <td>0</td>\n",
       "      <td>0</td>\n",
       "      <td>40</td>\n",
       "      <td>Cuba</td>\n",
       "      <td>&lt;=50K</td>\n",
       "    </tr>\n",
       "  </tbody>\n",
       "</table>\n",
       "</div>"
      ],
      "text/plain": [
       "   age         workclass  fnlwgt  education  education-num  \\\n",
       "0   39         State-gov   77516  Bachelors             13   \n",
       "1   50  Self-emp-not-inc   83311  Bachelors             13   \n",
       "2   38           Private  215646    HS-grad              9   \n",
       "3   53           Private  234721       11th              7   \n",
       "4   28           Private  338409  Bachelors             13   \n",
       "\n",
       "       marital-status         occupation   relationship   race     sex  \\\n",
       "0       Never-married       Adm-clerical  Not-in-family  White    Male   \n",
       "1  Married-civ-spouse    Exec-managerial        Husband  White    Male   \n",
       "2            Divorced  Handlers-cleaners  Not-in-family  White    Male   \n",
       "3  Married-civ-spouse  Handlers-cleaners        Husband  Black    Male   \n",
       "4  Married-civ-spouse     Prof-specialty           Wife  Black  Female   \n",
       "\n",
       "   capital-gain  capital-loss  hours-per-week native-country income  \n",
       "0          2174             0              40  United-States  <=50K  \n",
       "1             0             0              13  United-States  <=50K  \n",
       "2             0             0              40  United-States  <=50K  \n",
       "3             0             0              40  United-States  <=50K  \n",
       "4             0             0              40           Cuba  <=50K  "
      ]
     },
     "metadata": {},
     "output_type": "display_data"
    }
   ],
   "source": [
    "train_data = pd.read_csv('adult_trdata.csv', names=['age','workclass', 'fnlwgt', 'education', 'education-num', 'marital-status',\n",
    "                                                     'occupation', 'relationship', 'race', 'sex', 'capital-gain', 'capital-loss',\n",
    "                                                     'hours-per-week', 'native-country', 'income'],sep=',\\s', na_values=[\"?\"],engine='python')\n",
    "print(train_data.shape)\n",
    "display(train_data.head())"
   ]
  },
  {
   "cell_type": "code",
   "execution_count": 3,
   "id": "63ad1afd",
   "metadata": {},
   "outputs": [
    {
     "data": {
      "text/plain": [
       "age                  0\n",
       "workclass         1836\n",
       "fnlwgt               0\n",
       "education            0\n",
       "education-num        0\n",
       "marital-status       0\n",
       "occupation        1843\n",
       "relationship         0\n",
       "race                 0\n",
       "sex                  0\n",
       "capital-gain         0\n",
       "capital-loss         0\n",
       "hours-per-week       0\n",
       "native-country     583\n",
       "income               0\n",
       "dtype: int64"
      ]
     },
     "execution_count": 3,
     "metadata": {},
     "output_type": "execute_result"
    }
   ],
   "source": [
    "train_data.isnull().sum()"
   ]
  },
  {
   "cell_type": "code",
   "execution_count": 4,
   "id": "7dbb1c20",
   "metadata": {},
   "outputs": [
    {
     "data": {
      "text/plain": [
       "(30162, 15)"
      ]
     },
     "execution_count": 4,
     "metadata": {},
     "output_type": "execute_result"
    }
   ],
   "source": [
    "new_train = train_data.dropna()\n",
    "new_train.shape"
   ]
  },
  {
   "cell_type": "code",
   "execution_count": 5,
   "id": "966d6888",
   "metadata": {},
   "outputs": [],
   "source": [
    "# new_train['workclass'].value_counts()\n",
    "# new_train['education'].value_counts()\n",
    "# new_train['income'].value_counts()\n",
    "# new_train.dtypes"
   ]
  },
  {
   "cell_type": "code",
   "execution_count": 6,
   "id": "1eb92258",
   "metadata": {},
   "outputs": [
    {
     "data": {
      "text/plain": [
       "<AxesSubplot:>"
      ]
     },
     "execution_count": 6,
     "metadata": {},
     "output_type": "execute_result"
    },
    {
     "data": {
      "image/png": "[encoded data removed]",
      "text/plain": [
       "<Figure size 720x720 with 1 Axes>"
      ]
     },
     "metadata": {
      "needs_background": "light"
     },
     "output_type": "display_data"
    }
   ],
   "source": [
    "## Features Correlation analysis\n",
    "plt.figure(figsize = (10, 10))\n",
    "corr_matrix = new_train[['age', 'fnlwgt', 'education-num', 'capital-gain', 'capital-loss', 'hours-per-week']].corr()\n",
    "sns.heatmap(corr_matrix, annot = True, cbar = False)"
   ]
  },
  {
   "cell_type": "code",
   "execution_count": 7,
   "id": "e4c7dec2",
   "metadata": {},
   "outputs": [
    {
     "name": "stderr",
     "output_type": "stream",
     "text": [
      "/home/ec2-user/anaconda3/envs/python3/lib/python3.6/site-packages/pandas/core/frame.py:4174: SettingWithCopyWarning: \n",
      "A value is trying to be set on a copy of a slice from a DataFrame\n",
      "\n",
      "See the caveats in the documentation: https://pandas.pydata.org/pandas-docs/stable/user_guide/indexing.html#returning-a-view-versus-a-copy\n",
      "  errors=errors,\n"
     ]
    },
    {
     "data": {
      "text/plain": [
       "(30162, 105)"
      ]
     },
     "execution_count": 7,
     "metadata": {},
     "output_type": "execute_result"
    }
   ],
   "source": [
    "# Dummy for categorical variables (training dataset)\n",
    "def dummies(x):\n",
    "    dummy = pd.get_dummies(new_train[x])\n",
    "    new_train.drop(columns = x, inplace = True)\n",
    "    return pd.concat([new_train, dummy], axis=1)\n",
    "\n",
    "new_train = dummies('workclass')\n",
    "new_train = dummies('education')\n",
    "new_train = dummies('marital-status')\n",
    "new_train = dummies('occupation')\n",
    "new_train = dummies('relationship')\n",
    "new_train = dummies('race')\n",
    "new_train = dummies('sex')\n",
    "new_train = dummies('native-country')\n",
    "new_train.shape"
   ]
  },
  {
   "cell_type": "code",
   "execution_count": 9,
   "id": "a2c9932b",
   "metadata": {},
   "outputs": [
    {
     "data": {
      "text/html": [
       "<div>\n",
       "<style scoped>\n",
       "    .dataframe tbody tr th:only-of-type {\n",
       "        vertical-align: middle;\n",
       "    }\n",
       "\n",
       "    .dataframe tbody tr th {\n",
       "        vertical-align: top;\n",
       "    }\n",
       "\n",
       "    .dataframe thead th {\n",
       "        text-align: right;\n",
       "    }\n",
       "</style>\n",
       "<table border=\"1\" class=\"dataframe\">\n",
       "  <thead>\n",
       "    <tr style=\"text-align: right;\">\n",
       "      <th></th>\n",
       "      <th>age</th>\n",
       "      <th>fnlwgt</th>\n",
       "      <th>education-num</th>\n",
       "      <th>capital-gain</th>\n",
       "      <th>capital-loss</th>\n",
       "      <th>hours-per-week</th>\n",
       "      <th>income</th>\n",
       "      <th>Federal-gov</th>\n",
       "      <th>Local-gov</th>\n",
       "      <th>Private</th>\n",
       "      <th>...</th>\n",
       "      <th>Portugal</th>\n",
       "      <th>Puerto-Rico</th>\n",
       "      <th>Scotland</th>\n",
       "      <th>South</th>\n",
       "      <th>Taiwan</th>\n",
       "      <th>Thailand</th>\n",
       "      <th>Trinadad&amp;Tobago</th>\n",
       "      <th>United-States</th>\n",
       "      <th>Vietnam</th>\n",
       "      <th>Yugoslavia</th>\n",
       "    </tr>\n",
       "  </thead>\n",
       "  <tbody>\n",
       "    <tr>\n",
       "      <th>0</th>\n",
       "      <td>39</td>\n",
       "      <td>77516</td>\n",
       "      <td>13</td>\n",
       "      <td>2174</td>\n",
       "      <td>0</td>\n",
       "      <td>40</td>\n",
       "      <td>0</td>\n",
       "      <td>0</td>\n",
       "      <td>0</td>\n",
       "      <td>0</td>\n",
       "      <td>...</td>\n",
       "      <td>0</td>\n",
       "      <td>0</td>\n",
       "      <td>0</td>\n",
       "      <td>0</td>\n",
       "      <td>0</td>\n",
       "      <td>0</td>\n",
       "      <td>0</td>\n",
       "      <td>1</td>\n",
       "      <td>0</td>\n",
       "      <td>0</td>\n",
       "    </tr>\n",
       "    <tr>\n",
       "      <th>1</th>\n",
       "      <td>50</td>\n",
       "      <td>83311</td>\n",
       "      <td>13</td>\n",
       "      <td>0</td>\n",
       "      <td>0</td>\n",
       "      <td>13</td>\n",
       "      <td>0</td>\n",
       "      <td>0</td>\n",
       "      <td>0</td>\n",
       "      <td>0</td>\n",
       "      <td>...</td>\n",
       "      <td>0</td>\n",
       "      <td>0</td>\n",
       "      <td>0</td>\n",
       "      <td>0</td>\n",
       "      <td>0</td>\n",
       "      <td>0</td>\n",
       "      <td>0</td>\n",
       "      <td>1</td>\n",
       "      <td>0</td>\n",
       "      <td>0</td>\n",
       "    </tr>\n",
       "    <tr>\n",
       "      <th>2</th>\n",
       "      <td>38</td>\n",
       "      <td>215646</td>\n",
       "      <td>9</td>\n",
       "      <td>0</td>\n",
       "      <td>0</td>\n",
       "      <td>40</td>\n",
       "      <td>0</td>\n",
       "      <td>0</td>\n",
       "      <td>0</td>\n",
       "      <td>1</td>\n",
       "      <td>...</td>\n",
       "      <td>0</td>\n",
       "      <td>0</td>\n",
       "      <td>0</td>\n",
       "      <td>0</td>\n",
       "      <td>0</td>\n",
       "      <td>0</td>\n",
       "      <td>0</td>\n",
       "      <td>1</td>\n",
       "      <td>0</td>\n",
       "      <td>0</td>\n",
       "    </tr>\n",
       "    <tr>\n",
       "      <th>3</th>\n",
       "      <td>53</td>\n",
       "      <td>234721</td>\n",
       "      <td>7</td>\n",
       "      <td>0</td>\n",
       "      <td>0</td>\n",
       "      <td>40</td>\n",
       "      <td>0</td>\n",
       "      <td>0</td>\n",
       "      <td>0</td>\n",
       "      <td>1</td>\n",
       "      <td>...</td>\n",
       "      <td>0</td>\n",
       "      <td>0</td>\n",
       "      <td>0</td>\n",
       "      <td>0</td>\n",
       "      <td>0</td>\n",
       "      <td>0</td>\n",
       "      <td>0</td>\n",
       "      <td>1</td>\n",
       "      <td>0</td>\n",
       "      <td>0</td>\n",
       "    </tr>\n",
       "    <tr>\n",
       "      <th>4</th>\n",
       "      <td>28</td>\n",
       "      <td>338409</td>\n",
       "      <td>13</td>\n",
       "      <td>0</td>\n",
       "      <td>0</td>\n",
       "      <td>40</td>\n",
       "      <td>0</td>\n",
       "      <td>0</td>\n",
       "      <td>0</td>\n",
       "      <td>1</td>\n",
       "      <td>...</td>\n",
       "      <td>0</td>\n",
       "      <td>0</td>\n",
       "      <td>0</td>\n",
       "      <td>0</td>\n",
       "      <td>0</td>\n",
       "      <td>0</td>\n",
       "      <td>0</td>\n",
       "      <td>0</td>\n",
       "      <td>0</td>\n",
       "      <td>0</td>\n",
       "    </tr>\n",
       "  </tbody>\n",
       "</table>\n",
       "<p>5 rows × 105 columns</p>\n",
       "</div>"
      ],
      "text/plain": [
       "   age  fnlwgt  education-num  capital-gain  capital-loss  hours-per-week  \\\n",
       "0   39   77516             13          2174             0              40   \n",
       "1   50   83311             13             0             0              13   \n",
       "2   38  215646              9             0             0              40   \n",
       "3   53  234721              7             0             0              40   \n",
       "4   28  338409             13             0             0              40   \n",
       "\n",
       "   income  Federal-gov  Local-gov  Private  ...  Portugal  Puerto-Rico  \\\n",
       "0       0            0          0        0  ...         0            0   \n",
       "1       0            0          0        0  ...         0            0   \n",
       "2       0            0          0        1  ...         0            0   \n",
       "3       0            0          0        1  ...         0            0   \n",
       "4       0            0          0        1  ...         0            0   \n",
       "\n",
       "   Scotland  South  Taiwan  Thailand  Trinadad&Tobago  United-States  Vietnam  \\\n",
       "0         0      0       0         0                0              1        0   \n",
       "1         0      0       0         0                0              1        0   \n",
       "2         0      0       0         0                0              1        0   \n",
       "3         0      0       0         0                0              1        0   \n",
       "4         0      0       0         0                0              0        0   \n",
       "\n",
       "   Yugoslavia  \n",
       "0           0  \n",
       "1           0  \n",
       "2           0  \n",
       "3           0  \n",
       "4           0  \n",
       "\n",
       "[5 rows x 105 columns]"
      ]
     },
     "execution_count": 9,
     "metadata": {},
     "output_type": "execute_result"
    }
   ],
   "source": [
    "## Transfer column of income to binary.\n",
    "new_train['income'] = new_train['income'].apply(lambda x:1 if x =='>=50K' or x =='>50K' else 0)\n",
    "new_train.head()"
   ]
  },
  {
   "cell_type": "code",
   "execution_count": 10,
   "id": "99690931",
   "metadata": {},
   "outputs": [
    {
     "data": {
      "text/plain": [
       "array([[<AxesSubplot:title={'center':'age'}>,\n",
       "        <AxesSubplot:title={'center':'fnlwgt'}>],\n",
       "       [<AxesSubplot:title={'center':'education-num'}>,\n",
       "        <AxesSubplot:title={'center':'capital-gain'}>],\n",
       "       [<AxesSubplot:title={'center':'capital-loss'}>,\n",
       "        <AxesSubplot:title={'center':'hours-per-week'}>]], dtype=object)"
      ]
     },
     "execution_count": 10,
     "metadata": {},
     "output_type": "execute_result"
    },
    {
     "data": {
      "image/png": "[encoded data removed]",
      "text/plain": [
       "<Figure size 1080x1080 with 6 Axes>"
      ]
     },
     "metadata": {
      "needs_background": "light"
     },
     "output_type": "display_data"
    }
   ],
   "source": [
    "## Distribution \n",
    "new_train.iloc[:, :6].hist(bins = 30, figsize = (15,15), color = 'b')"
   ]
  },
  {
   "cell_type": "markdown",
   "id": "2bcb8b6c",
   "metadata": {},
   "source": [
    "## EDA for test dataset"
   ]
  },
  {
   "cell_type": "code",
   "execution_count": 11,
   "id": "8cb39039",
   "metadata": {},
   "outputs": [
    {
     "name": "stdout",
     "output_type": "stream",
     "text": [
      "(16282, 15)\n",
      "(16281, 15)\n"
     ]
    },
    {
     "data": {
      "text/html": [
       "<div>\n",
       "<style scoped>\n",
       "    .dataframe tbody tr th:only-of-type {\n",
       "        vertical-align: middle;\n",
       "    }\n",
       "\n",
       "    .dataframe tbody tr th {\n",
       "        vertical-align: top;\n",
       "    }\n",
       "\n",
       "    .dataframe thead th {\n",
       "        text-align: right;\n",
       "    }\n",
       "</style>\n",
       "<table border=\"1\" class=\"dataframe\">\n",
       "  <thead>\n",
       "    <tr style=\"text-align: right;\">\n",
       "      <th></th>\n",
       "      <th>age</th>\n",
       "      <th>workclass</th>\n",
       "      <th>fnlwgt</th>\n",
       "      <th>education</th>\n",
       "      <th>education-num</th>\n",
       "      <th>marital-status</th>\n",
       "      <th>occupation</th>\n",
       "      <th>relationship</th>\n",
       "      <th>race</th>\n",
       "      <th>sex</th>\n",
       "      <th>capital-gain</th>\n",
       "      <th>capital-loss</th>\n",
       "      <th>hours-per-week</th>\n",
       "      <th>native-country</th>\n",
       "      <th>income</th>\n",
       "    </tr>\n",
       "  </thead>\n",
       "  <tbody>\n",
       "    <tr>\n",
       "      <th>0</th>\n",
       "      <td>25</td>\n",
       "      <td>Private</td>\n",
       "      <td>226802.0</td>\n",
       "      <td>11th</td>\n",
       "      <td>7.0</td>\n",
       "      <td>Never-married</td>\n",
       "      <td>Machine-op-inspct</td>\n",
       "      <td>Own-child</td>\n",
       "      <td>Black</td>\n",
       "      <td>Male</td>\n",
       "      <td>0.0</td>\n",
       "      <td>0.0</td>\n",
       "      <td>40.0</td>\n",
       "      <td>United-States</td>\n",
       "      <td>&lt;=50K.</td>\n",
       "    </tr>\n",
       "    <tr>\n",
       "      <th>1</th>\n",
       "      <td>38</td>\n",
       "      <td>Private</td>\n",
       "      <td>89814.0</td>\n",
       "      <td>HS-grad</td>\n",
       "      <td>9.0</td>\n",
       "      <td>Married-civ-spouse</td>\n",
       "      <td>Farming-fishing</td>\n",
       "      <td>Husband</td>\n",
       "      <td>White</td>\n",
       "      <td>Male</td>\n",
       "      <td>0.0</td>\n",
       "      <td>0.0</td>\n",
       "      <td>50.0</td>\n",
       "      <td>United-States</td>\n",
       "      <td>&lt;=50K.</td>\n",
       "    </tr>\n",
       "    <tr>\n",
       "      <th>2</th>\n",
       "      <td>28</td>\n",
       "      <td>Local-gov</td>\n",
       "      <td>336951.0</td>\n",
       "      <td>Assoc-acdm</td>\n",
       "      <td>12.0</td>\n",
       "      <td>Married-civ-spouse</td>\n",
       "      <td>Protective-serv</td>\n",
       "      <td>Husband</td>\n",
       "      <td>White</td>\n",
       "      <td>Male</td>\n",
       "      <td>0.0</td>\n",
       "      <td>0.0</td>\n",
       "      <td>40.0</td>\n",
       "      <td>United-States</td>\n",
       "      <td>&gt;50K.</td>\n",
       "    </tr>\n",
       "    <tr>\n",
       "      <th>3</th>\n",
       "      <td>44</td>\n",
       "      <td>Private</td>\n",
       "      <td>160323.0</td>\n",
       "      <td>Some-college</td>\n",
       "      <td>10.0</td>\n",
       "      <td>Married-civ-spouse</td>\n",
       "      <td>Machine-op-inspct</td>\n",
       "      <td>Husband</td>\n",
       "      <td>Black</td>\n",
       "      <td>Male</td>\n",
       "      <td>7688.0</td>\n",
       "      <td>0.0</td>\n",
       "      <td>40.0</td>\n",
       "      <td>United-States</td>\n",
       "      <td>&gt;50K.</td>\n",
       "    </tr>\n",
       "    <tr>\n",
       "      <th>4</th>\n",
       "      <td>18</td>\n",
       "      <td>NaN</td>\n",
       "      <td>103497.0</td>\n",
       "      <td>Some-college</td>\n",
       "      <td>10.0</td>\n",
       "      <td>Never-married</td>\n",
       "      <td>NaN</td>\n",
       "      <td>Own-child</td>\n",
       "      <td>White</td>\n",
       "      <td>Female</td>\n",
       "      <td>0.0</td>\n",
       "      <td>0.0</td>\n",
       "      <td>30.0</td>\n",
       "      <td>United-States</td>\n",
       "      <td>&lt;=50K.</td>\n",
       "    </tr>\n",
       "  </tbody>\n",
       "</table>\n",
       "</div>"
      ],
      "text/plain": [
       "  age  workclass    fnlwgt     education  education-num      marital-status  \\\n",
       "0  25    Private  226802.0          11th            7.0       Never-married   \n",
       "1  38    Private   89814.0       HS-grad            9.0  Married-civ-spouse   \n",
       "2  28  Local-gov  336951.0    Assoc-acdm           12.0  Married-civ-spouse   \n",
       "3  44    Private  160323.0  Some-college           10.0  Married-civ-spouse   \n",
       "4  18        NaN  103497.0  Some-college           10.0       Never-married   \n",
       "\n",
       "          occupation relationship   race     sex  capital-gain  capital-loss  \\\n",
       "0  Machine-op-inspct    Own-child  Black    Male           0.0           0.0   \n",
       "1    Farming-fishing      Husband  White    Male           0.0           0.0   \n",
       "2    Protective-serv      Husband  White    Male           0.0           0.0   \n",
       "3  Machine-op-inspct      Husband  Black    Male        7688.0           0.0   \n",
       "4                NaN    Own-child  White  Female           0.0           0.0   \n",
       "\n",
       "   hours-per-week native-country  income  \n",
       "0            40.0  United-States  <=50K.  \n",
       "1            50.0  United-States  <=50K.  \n",
       "2            40.0  United-States   >50K.  \n",
       "3            40.0  United-States   >50K.  \n",
       "4            30.0  United-States  <=50K.  "
      ]
     },
     "metadata": {},
     "output_type": "display_data"
    }
   ],
   "source": [
    "test_dataRaw = pd.read_csv('adult_test.csv', names=['age','workclass', 'fnlwgt', 'education', 'education-num', 'marital-status',\n",
    "                                                     'occupation', 'relationship', 'race', 'sex', 'capital-gain', 'capital-loss',\n",
    "                                                     'hours-per-week', 'native-country', 'income'], sep=',\\s', na_values=[\"?\"],engine='python')\n",
    "print(test_dataRaw.shape)\n",
    "test_data = test_dataRaw.drop([0])\n",
    "print(test_data.shape)\n",
    "test_data = test_data.reset_index(drop=True)\n",
    "display(test_data.head())"
   ]
  },
  {
   "cell_type": "code",
   "execution_count": 12,
   "id": "ff29e219",
   "metadata": {},
   "outputs": [
    {
     "data": {
      "text/plain": [
       "age                 0\n",
       "workclass         963\n",
       "fnlwgt              0\n",
       "education           0\n",
       "education-num       0\n",
       "marital-status      0\n",
       "occupation        966\n",
       "relationship        0\n",
       "race                0\n",
       "sex                 0\n",
       "capital-gain        0\n",
       "capital-loss        0\n",
       "hours-per-week      0\n",
       "native-country    274\n",
       "income              0\n",
       "dtype: int64"
      ]
     },
     "execution_count": 12,
     "metadata": {},
     "output_type": "execute_result"
    }
   ],
   "source": [
    "test_data.isnull().sum()"
   ]
  },
  {
   "cell_type": "code",
   "execution_count": 13,
   "id": "56287fbd",
   "metadata": {},
   "outputs": [
    {
     "data": {
      "text/plain": [
       "(15060, 15)"
      ]
     },
     "execution_count": 13,
     "metadata": {},
     "output_type": "execute_result"
    }
   ],
   "source": [
    "new_test = test_data.dropna()\n",
    "new_test.shape"
   ]
  },
  {
   "cell_type": "code",
   "execution_count": 14,
   "id": "610f457f",
   "metadata": {},
   "outputs": [],
   "source": [
    "# new_test['workclass'].value_counts()\n",
    "# new_test['education'].value_counts()\n",
    "# new_test['income'].value_counts()"
   ]
  },
  {
   "cell_type": "code",
   "execution_count": 15,
   "id": "d1b5ccaa",
   "metadata": {},
   "outputs": [
    {
     "name": "stderr",
     "output_type": "stream",
     "text": [
      "/home/ec2-user/anaconda3/envs/python3/lib/python3.6/site-packages/pandas/core/frame.py:4174: SettingWithCopyWarning: \n",
      "A value is trying to be set on a copy of a slice from a DataFrame\n",
      "\n",
      "See the caveats in the documentation: https://pandas.pydata.org/pandas-docs/stable/user_guide/indexing.html#returning-a-view-versus-a-copy\n",
      "  errors=errors,\n"
     ]
    },
    {
     "data": {
      "text/plain": [
       "(15060, 104)"
      ]
     },
     "execution_count": 15,
     "metadata": {},
     "output_type": "execute_result"
    }
   ],
   "source": [
    "# Dummy for categorical variables (testing dataset)\n",
    "def dummies_test(x):\n",
    "    dummy_test = pd.get_dummies(new_test[x])\n",
    "    new_test.drop(columns = x, inplace = True)\n",
    "    return pd.concat([new_test, dummy_test], axis=1)\n",
    "\n",
    "new_test = dummies_test('workclass')\n",
    "new_test = dummies_test('education')\n",
    "new_test = dummies_test('marital-status')\n",
    "new_test = dummies_test('occupation')\n",
    "new_test = dummies_test('relationship')\n",
    "new_test = dummies_test('race')\n",
    "new_test = dummies_test('sex')\n",
    "new_test = dummies_test('native-country')\n",
    "new_test.shape"
   ]
  },
  {
   "cell_type": "code",
   "execution_count": 16,
   "id": "9f498f5e",
   "metadata": {},
   "outputs": [
    {
     "data": {
      "text/plain": [
       "Index(['age', 'fnlwgt', 'education-num', 'capital-gain', 'capital-loss',\n",
       "       'hours-per-week', 'income', 'Federal-gov', 'Local-gov', 'Private',\n",
       "       ...\n",
       "       'Portugal', 'Puerto-Rico', 'Scotland', 'South', 'Taiwan', 'Thailand',\n",
       "       'Trinadad&Tobago', 'United-States', 'Vietnam', 'Yugoslavia'],\n",
       "      dtype='object', length=104)"
      ]
     },
     "execution_count": 16,
     "metadata": {},
     "output_type": "execute_result"
    }
   ],
   "source": [
    "new_test.columns"
   ]
  },
  {
   "cell_type": "code",
   "execution_count": 17,
   "id": "cccf3bf0",
   "metadata": {},
   "outputs": [
    {
     "data": {
      "text/plain": [
       "(15060, 104)"
      ]
     },
     "execution_count": 17,
     "metadata": {},
     "output_type": "execute_result"
    }
   ],
   "source": [
    "## Transfer column income to binary\n",
    "new_test['income'] = new_test['income'].apply(lambda x:1 if x =='>=50K.' or x =='>50K.' else 0)\n",
    "new_test.shape"
   ]
  },
  {
   "cell_type": "code",
   "execution_count": 18,
   "id": "bd0f18ca",
   "metadata": {},
   "outputs": [
    {
     "data": {
      "text/plain": [
       "['Holand-Netherlands']"
      ]
     },
     "execution_count": 18,
     "metadata": {},
     "output_type": "execute_result"
    }
   ],
   "source": [
    "## Check the column difference between train and test data\n",
    "extra_column = [x for x in list(new_train.columns) if x not in list(new_test.columns)]\n",
    "extra_column"
   ]
  },
  {
   "cell_type": "code",
   "execution_count": 19,
   "id": "647b4e89",
   "metadata": {},
   "outputs": [
    {
     "data": {
      "text/plain": [
       "(15060, 105)"
      ]
     },
     "execution_count": 19,
     "metadata": {},
     "output_type": "execute_result"
    }
   ],
   "source": [
    "## For same numbers of columns\n",
    "new_test['Holand-Netherlands'] = 0\n",
    "new_test.shape"
   ]
  },
  {
   "cell_type": "code",
   "execution_count": 20,
   "id": "94893dfa",
   "metadata": {},
   "outputs": [
    {
     "data": {
      "text/html": [
       "<div>\n",
       "<style scoped>\n",
       "    .dataframe tbody tr th:only-of-type {\n",
       "        vertical-align: middle;\n",
       "    }\n",
       "\n",
       "    .dataframe tbody tr th {\n",
       "        vertical-align: top;\n",
       "    }\n",
       "\n",
       "    .dataframe thead th {\n",
       "        text-align: right;\n",
       "    }\n",
       "</style>\n",
       "<table border=\"1\" class=\"dataframe\">\n",
       "  <thead>\n",
       "    <tr style=\"text-align: right;\">\n",
       "      <th></th>\n",
       "      <th>age</th>\n",
       "      <th>fnlwgt</th>\n",
       "      <th>education-num</th>\n",
       "      <th>capital-gain</th>\n",
       "      <th>capital-loss</th>\n",
       "      <th>hours-per-week</th>\n",
       "      <th>income</th>\n",
       "      <th>Federal-gov</th>\n",
       "      <th>Local-gov</th>\n",
       "      <th>Private</th>\n",
       "      <th>...</th>\n",
       "      <th>Puerto-Rico</th>\n",
       "      <th>Scotland</th>\n",
       "      <th>South</th>\n",
       "      <th>Taiwan</th>\n",
       "      <th>Thailand</th>\n",
       "      <th>Trinadad&amp;Tobago</th>\n",
       "      <th>United-States</th>\n",
       "      <th>Vietnam</th>\n",
       "      <th>Yugoslavia</th>\n",
       "      <th>Holand-Netherlands</th>\n",
       "    </tr>\n",
       "  </thead>\n",
       "  <tbody>\n",
       "    <tr>\n",
       "      <th>0</th>\n",
       "      <td>25</td>\n",
       "      <td>226802.0</td>\n",
       "      <td>7.0</td>\n",
       "      <td>0.0</td>\n",
       "      <td>0.0</td>\n",
       "      <td>40.0</td>\n",
       "      <td>0</td>\n",
       "      <td>0</td>\n",
       "      <td>0</td>\n",
       "      <td>1</td>\n",
       "      <td>...</td>\n",
       "      <td>0</td>\n",
       "      <td>0</td>\n",
       "      <td>0</td>\n",
       "      <td>0</td>\n",
       "      <td>0</td>\n",
       "      <td>0</td>\n",
       "      <td>1</td>\n",
       "      <td>0</td>\n",
       "      <td>0</td>\n",
       "      <td>0</td>\n",
       "    </tr>\n",
       "    <tr>\n",
       "      <th>1</th>\n",
       "      <td>38</td>\n",
       "      <td>89814.0</td>\n",
       "      <td>9.0</td>\n",
       "      <td>0.0</td>\n",
       "      <td>0.0</td>\n",
       "      <td>50.0</td>\n",
       "      <td>0</td>\n",
       "      <td>0</td>\n",
       "      <td>0</td>\n",
       "      <td>1</td>\n",
       "      <td>...</td>\n",
       "      <td>0</td>\n",
       "      <td>0</td>\n",
       "      <td>0</td>\n",
       "      <td>0</td>\n",
       "      <td>0</td>\n",
       "      <td>0</td>\n",
       "      <td>1</td>\n",
       "      <td>0</td>\n",
       "      <td>0</td>\n",
       "      <td>0</td>\n",
       "    </tr>\n",
       "    <tr>\n",
       "      <th>2</th>\n",
       "      <td>28</td>\n",
       "      <td>336951.0</td>\n",
       "      <td>12.0</td>\n",
       "      <td>0.0</td>\n",
       "      <td>0.0</td>\n",
       "      <td>40.0</td>\n",
       "      <td>1</td>\n",
       "      <td>0</td>\n",
       "      <td>1</td>\n",
       "      <td>0</td>\n",
       "      <td>...</td>\n",
       "      <td>0</td>\n",
       "      <td>0</td>\n",
       "      <td>0</td>\n",
       "      <td>0</td>\n",
       "      <td>0</td>\n",
       "      <td>0</td>\n",
       "      <td>1</td>\n",
       "      <td>0</td>\n",
       "      <td>0</td>\n",
       "      <td>0</td>\n",
       "    </tr>\n",
       "    <tr>\n",
       "      <th>3</th>\n",
       "      <td>44</td>\n",
       "      <td>160323.0</td>\n",
       "      <td>10.0</td>\n",
       "      <td>7688.0</td>\n",
       "      <td>0.0</td>\n",
       "      <td>40.0</td>\n",
       "      <td>1</td>\n",
       "      <td>0</td>\n",
       "      <td>0</td>\n",
       "      <td>1</td>\n",
       "      <td>...</td>\n",
       "      <td>0</td>\n",
       "      <td>0</td>\n",
       "      <td>0</td>\n",
       "      <td>0</td>\n",
       "      <td>0</td>\n",
       "      <td>0</td>\n",
       "      <td>1</td>\n",
       "      <td>0</td>\n",
       "      <td>0</td>\n",
       "      <td>0</td>\n",
       "    </tr>\n",
       "    <tr>\n",
       "      <th>5</th>\n",
       "      <td>34</td>\n",
       "      <td>198693.0</td>\n",
       "      <td>6.0</td>\n",
       "      <td>0.0</td>\n",
       "      <td>0.0</td>\n",
       "      <td>30.0</td>\n",
       "      <td>0</td>\n",
       "      <td>0</td>\n",
       "      <td>0</td>\n",
       "      <td>1</td>\n",
       "      <td>...</td>\n",
       "      <td>0</td>\n",
       "      <td>0</td>\n",
       "      <td>0</td>\n",
       "      <td>0</td>\n",
       "      <td>0</td>\n",
       "      <td>0</td>\n",
       "      <td>1</td>\n",
       "      <td>0</td>\n",
       "      <td>0</td>\n",
       "      <td>0</td>\n",
       "    </tr>\n",
       "  </tbody>\n",
       "</table>\n",
       "<p>5 rows × 105 columns</p>\n",
       "</div>"
      ],
      "text/plain": [
       "  age    fnlwgt  education-num  capital-gain  capital-loss  hours-per-week  \\\n",
       "0  25  226802.0            7.0           0.0           0.0            40.0   \n",
       "1  38   89814.0            9.0           0.0           0.0            50.0   \n",
       "2  28  336951.0           12.0           0.0           0.0            40.0   \n",
       "3  44  160323.0           10.0        7688.0           0.0            40.0   \n",
       "5  34  198693.0            6.0           0.0           0.0            30.0   \n",
       "\n",
       "   income  Federal-gov  Local-gov  Private  ...  Puerto-Rico  Scotland  South  \\\n",
       "0       0            0          0        1  ...            0         0      0   \n",
       "1       0            0          0        1  ...            0         0      0   \n",
       "2       1            0          1        0  ...            0         0      0   \n",
       "3       1            0          0        1  ...            0         0      0   \n",
       "5       0            0          0        1  ...            0         0      0   \n",
       "\n",
       "   Taiwan  Thailand  Trinadad&Tobago  United-States  Vietnam  Yugoslavia  \\\n",
       "0       0         0                0              1        0           0   \n",
       "1       0         0                0              1        0           0   \n",
       "2       0         0                0              1        0           0   \n",
       "3       0         0                0              1        0           0   \n",
       "5       0         0                0              1        0           0   \n",
       "\n",
       "   Holand-Netherlands  \n",
       "0                   0  \n",
       "1                   0  \n",
       "2                   0  \n",
       "3                   0  \n",
       "5                   0  \n",
       "\n",
       "[5 rows x 105 columns]"
      ]
     },
     "execution_count": 20,
     "metadata": {},
     "output_type": "execute_result"
    }
   ],
   "source": [
    "new_test.head()"
   ]
  },
  {
   "cell_type": "markdown",
   "id": "852e3031",
   "metadata": {},
   "source": [
    "## XGBOOST Classifier Model (AWS SageMaker)"
   ]
  },
  {
   "cell_type": "code",
   "execution_count": 60,
   "id": "17b3b5da",
   "metadata": {},
   "outputs": [],
   "source": [
    "import sagemaker\n",
    "from sagemaker import get_execution_role\n",
    "from sagemaker.amazon.amazon_estimator import get_image_uri\n",
    "from sagemaker.predictor import csv_serializer\n",
    "\n",
    "session = sagemaker.Session()\n",
    "\n",
    "## represents the IAM role\n",
    "role = sagemaker.get_execution_role()\n",
    "# bucket = 'mytest-ai'\n",
    "prefix = 'myTest-xgboost'"
   ]
  },
  {
   "cell_type": "code",
   "execution_count": 62,
   "id": "83d127e6",
   "metadata": {},
   "outputs": [
    {
     "data": {
      "text/plain": [
       "((20208, 104), (20208, 1), (15060, 104), (15060, 1), (9954, 104), (9954, 1))"
      ]
     },
     "execution_count": 62,
     "metadata": {},
     "output_type": "execute_result"
    }
   ],
   "source": [
    "## Splitted into X/Y train, X/Y test and X/Y validation\n",
    "X_train, Y_train = new_train.loc[:, new_train.columns !='income'].astype(np.float32), new_train[['income']].astype(np.float32)\n",
    "X_test, Y_test = new_test.loc[:, new_test.columns !='income'].astype(np.float32), new_test[['income']].astype(np.float32)\n",
    "X_train, X_val, Y_train, Y_val = sklearn.model_selection.train_test_split(X_train, Y_train, test_size=0.33)\n",
    "\n",
    "X_train.shape, Y_train.shape, X_test.shape, Y_test.shape, X_val.shape, Y_val.shape"
   ]
  },
  {
   "cell_type": "code",
   "execution_count": 63,
   "id": "dcc50cf8",
   "metadata": {},
   "outputs": [],
   "source": [
    "## Save the data locally (virtual machine)\n",
    "data_dir = '../data/'\n",
    "if not os.path.exists(data_dir):\n",
    "    os.makedirs(data_dir)\n",
    "    \n",
    "X_test.to_csv(os.path.join(data_dir, 'test.csv'), header=False, index=False)\n",
    "\n",
    "pd.concat([Y_val, X_val], axis=1).to_csv(os.path.join(data_dir, 'validation.csv'), header=False, index=False)\n",
    "pd.concat([Y_train, X_train], axis=1).to_csv(os.path.join(data_dir, 'train.csv'), header=False, index=False)"
   ]
  },
  {
   "cell_type": "code",
   "execution_count": 64,
   "id": "5403186c",
   "metadata": {},
   "outputs": [],
   "source": [
    "# Upload the test.csv, train.csv and validation.csv files (in data_dir) to S3.\n",
    "test_location = None\n",
    "val_location = None\n",
    "train_location = None\n",
    "\n",
    "# Solution:\n",
    "test_location = session.upload_data(os.path.join(data_dir, 'test.csv'), key_prefix=prefix)\n",
    "val_location = session.upload_data(os.path.join(data_dir, 'validation.csv'), key_prefix=prefix)\n",
    "train_location = session.upload_data(os.path.join(data_dir, 'train.csv'), key_prefix=prefix)"
   ]
  },
  {
   "cell_type": "code",
   "execution_count": 66,
   "id": "d434688c",
   "metadata": {},
   "outputs": [
    {
     "name": "stderr",
     "output_type": "stream",
     "text": [
      "'get_image_uri' method will be deprecated in favor of 'ImageURIProvider' class in SageMaker Python SDK v2.\n"
     ]
    }
   ],
   "source": [
    "## Container\n",
    "container = get_image_uri(session.boto_region_name, 'xgboost', '1.0-1')"
   ]
  },
  {
   "cell_type": "code",
   "execution_count": 68,
   "id": "b03c769d",
   "metadata": {},
   "outputs": [
    {
     "name": "stderr",
     "output_type": "stream",
     "text": [
      "Parameter image_name will be renamed to image_uri in SageMaker Python SDK v2.\n"
     ]
    }
   ],
   "source": [
    "# Now Construct the estimator object.\n",
    "xgb = 0\n",
    "xgb = sagemaker.estimator.Estimator(container, # The image name of the training container\n",
    "                                    role,      # The IAM role to use (our current role in this case)\n",
    "                                    train_instance_count=1, # The number of instances to use for training\n",
    "                                    train_instance_type='ml.m4.xlarge', # The type of instance to use for training\n",
    "                                    output_path='s3://{}/{}/output'.format(session.default_bucket(), prefix),\n",
    "                                                                        # Where to save the output (the model artifacts)\n",
    "                                    sagemaker_session=session) # The current SageMaker session"
   ]
  },
  {
   "cell_type": "code",
   "execution_count": 70,
   "id": "fa25da5c",
   "metadata": {},
   "outputs": [],
   "source": [
    "xgb.set_hyperparameters(max_depth=5,\n",
    "                        eta=0.2,\n",
    "                        gamma=4,\n",
    "                        min_child_weight=6,\n",
    "                        subsample=0.8,\n",
    "                        silent=0,\n",
    "                        objective='reg:squarederror',\n",
    "                        early_stopping_rounds=10,\n",
    "                        num_round=500)\n",
    "# objective='binary:logistic'"
   ]
  },
  {
   "cell_type": "code",
   "execution_count": 72,
   "id": "4fe5fb05",
   "metadata": {},
   "outputs": [
    {
     "name": "stderr",
     "output_type": "stream",
     "text": [
      "'s3_input' class will be renamed to 'TrainingInput' in SageMaker Python SDK v2.\n",
      "'s3_input' class will be renamed to 'TrainingInput' in SageMaker Python SDK v2.\n"
     ]
    }
   ],
   "source": [
    "s3_input_train = sagemaker.s3_input(s3_data=train_location, content_type='csv')\n",
    "s3_input_validation = sagemaker.s3_input(s3_data=val_location, content_type='csv')"
   ]
  },
  {
   "cell_type": "code",
   "execution_count": 73,
   "id": "976500a6",
   "metadata": {},
   "outputs": [
    {
     "name": "stdout",
     "output_type": "stream",
     "text": [
      "2021-10-15 22:34:29 Starting - Starting the training job...\n",
      "2021-10-15 22:34:32 Starting - Launching requested ML instances......\n",
      "2021-10-15 22:35:43 Starting - Preparing the instances for training.........\n",
      "2021-10-15 22:37:17 Downloading - Downloading input data...\n",
      "2021-10-15 22:37:53 Training - Downloading the training image...\n",
      "2021-10-15 22:38:25 Training - Training image download completed. Training in progress..\u001b[34mINFO:sagemaker-containers:Imported framework sagemaker_xgboost_container.training\u001b[0m\n",
      "\u001b[34mINFO:sagemaker-containers:Failed to parse hyperparameter objective value reg:squarederror to Json.\u001b[0m\n",
      "\u001b[34mReturning the value itself\u001b[0m\n",
      "\u001b[34mINFO:sagemaker-containers:No GPUs detected (normal if no gpus installed)\u001b[0m\n",
      "\u001b[34mINFO:sagemaker_xgboost_container.training:Running XGBoost Sagemaker in algorithm mode\u001b[0m\n",
      "\u001b[34mINFO:root:Determined delimiter of CSV input is ','\u001b[0m\n",
      "\u001b[34mINFO:root:Determined delimiter of CSV input is ','\u001b[0m\n",
      "\u001b[34mINFO:root:Determined delimiter of CSV input is ','\u001b[0m\n",
      "\u001b[34m[22:38:30] 20208x104 matrix with 2101632 entries loaded from /opt/ml/input/data/train?format=csv&label_column=0&delimiter=,\u001b[0m\n",
      "\u001b[34mINFO:root:Determined delimiter of CSV input is ','\u001b[0m\n",
      "\u001b[34m[22:38:30] 9954x104 matrix with 1035216 entries loaded from /opt/ml/input/data/validation?format=csv&label_column=0&delimiter=,\u001b[0m\n",
      "\u001b[34mINFO:root:Single node training.\u001b[0m\n",
      "\u001b[34mINFO:root:Train matrix has 20208 rows\u001b[0m\n",
      "\u001b[34mINFO:root:Validation matrix has 9954 rows\u001b[0m\n",
      "\u001b[34m[22:38:30] WARNING: /workspace/src/learner.cc:328: \u001b[0m\n",
      "\u001b[34mParameters: { early_stopping_rounds, num_round, silent } might not be used.\n",
      "\n",
      "  This may not be accurate due to some parameters are only used in language bindings but\n",
      "  passed down to XGBoost core.  Or some parameters are not used but slip through this\n",
      "  verification. Please open an issue if you find above cases.\n",
      "\n",
      "\u001b[0m\n",
      "\u001b[34m[0]#011train-rmse:0.44620#011validation-rmse:0.44616\u001b[0m\n",
      "\u001b[34m[1]#011train-rmse:0.40708#011validation-rmse:0.40668\u001b[0m\n",
      "\u001b[34m[2]#011train-rmse:0.37999#011validation-rmse:0.37912\u001b[0m\n",
      "\u001b[34m[3]#011train-rmse:0.36043#011validation-rmse:0.35951\u001b[0m\n",
      "\u001b[34m[4]#011train-rmse:0.34662#011validation-rmse:0.34539\u001b[0m\n",
      "\u001b[34m[5]#011train-rmse:0.33753#011validation-rmse:0.33630\u001b[0m\n",
      "\u001b[34m[6]#011train-rmse:0.33102#011validation-rmse:0.32969\u001b[0m\n",
      "\u001b[34m[7]#011train-rmse:0.32634#011validation-rmse:0.32523\u001b[0m\n",
      "\u001b[34m[8]#011train-rmse:0.32330#011validation-rmse:0.32219\u001b[0m\n",
      "\u001b[34m[9]#011train-rmse:0.32076#011validation-rmse:0.31965\u001b[0m\n",
      "\u001b[34m[10]#011train-rmse:0.31907#011validation-rmse:0.31794\u001b[0m\n",
      "\u001b[34m[11]#011train-rmse:0.31811#011validation-rmse:0.31708\u001b[0m\n",
      "\u001b[34m[12]#011train-rmse:0.31666#011validation-rmse:0.31564\u001b[0m\n",
      "\u001b[34m[13]#011train-rmse:0.31607#011validation-rmse:0.31493\u001b[0m\n",
      "\u001b[34m[14]#011train-rmse:0.31516#011validation-rmse:0.31401\u001b[0m\n",
      "\u001b[34m[15]#011train-rmse:0.31498#011validation-rmse:0.31382\u001b[0m\n",
      "\u001b[34m[16]#011train-rmse:0.31494#011validation-rmse:0.31380\u001b[0m\n",
      "\u001b[34m[17]#011train-rmse:0.31468#011validation-rmse:0.31355\u001b[0m\n",
      "\u001b[34m[18]#011train-rmse:0.31466#011validation-rmse:0.31354\u001b[0m\n",
      "\u001b[34m[19]#011train-rmse:0.31465#011validation-rmse:0.31354\u001b[0m\n",
      "\u001b[34m[20]#011train-rmse:0.31452#011validation-rmse:0.31343\u001b[0m\n",
      "\u001b[34m[21]#011train-rmse:0.31398#011validation-rmse:0.31292\u001b[0m\n",
      "\u001b[34m[22]#011train-rmse:0.31335#011validation-rmse:0.31224\u001b[0m\n",
      "\u001b[34m[23]#011train-rmse:0.31335#011validation-rmse:0.31224\u001b[0m\n",
      "\u001b[34m[24]#011train-rmse:0.31334#011validation-rmse:0.31225\u001b[0m\n",
      "\u001b[34m[25]#011train-rmse:0.31334#011validation-rmse:0.31225\u001b[0m\n",
      "\u001b[34m[26]#011train-rmse:0.31334#011validation-rmse:0.31225\u001b[0m\n",
      "\u001b[34m[27]#011train-rmse:0.31334#011validation-rmse:0.31225\u001b[0m\n",
      "\u001b[34m[28]#011train-rmse:0.31335#011validation-rmse:0.31225\u001b[0m\n",
      "\u001b[34m[29]#011train-rmse:0.31335#011validation-rmse:0.31225\u001b[0m\n",
      "\u001b[34m[30]#011train-rmse:0.31335#011validation-rmse:0.31224\u001b[0m\n",
      "\u001b[34m[31]#011train-rmse:0.31284#011validation-rmse:0.31187\u001b[0m\n",
      "\u001b[34m[32]#011train-rmse:0.31284#011validation-rmse:0.31187\u001b[0m\n",
      "\u001b[34m[33]#011train-rmse:0.31284#011validation-rmse:0.31187\u001b[0m\n",
      "\u001b[34m[34]#011train-rmse:0.31283#011validation-rmse:0.31187\u001b[0m\n",
      "\u001b[34m[35]#011train-rmse:0.31284#011validation-rmse:0.31187\u001b[0m\n",
      "\u001b[34m[36]#011train-rmse:0.31284#011validation-rmse:0.31187\u001b[0m\n",
      "\u001b[34m[37]#011train-rmse:0.31284#011validation-rmse:0.31187\u001b[0m\n",
      "\u001b[34m[38]#011train-rmse:0.31246#011validation-rmse:0.31143\u001b[0m\n",
      "\u001b[34m[39]#011train-rmse:0.31246#011validation-rmse:0.31143\u001b[0m\n",
      "\u001b[34m[40]#011train-rmse:0.31246#011validation-rmse:0.31143\u001b[0m\n",
      "\u001b[34m[41]#011train-rmse:0.31245#011validation-rmse:0.31143\u001b[0m\n",
      "\u001b[34m[42]#011train-rmse:0.31245#011validation-rmse:0.31143\u001b[0m\n",
      "\u001b[34m[43]#011train-rmse:0.31245#011validation-rmse:0.31143\u001b[0m\n",
      "\u001b[34m[44]#011train-rmse:0.31245#011validation-rmse:0.31143\u001b[0m\n",
      "\u001b[34m[45]#011train-rmse:0.31245#011validation-rmse:0.31144\u001b[0m\n",
      "\u001b[34m[46]#011train-rmse:0.31245#011validation-rmse:0.31144\u001b[0m\n",
      "\u001b[34m[47]#011train-rmse:0.31245#011validation-rmse:0.31144\u001b[0m\n",
      "\u001b[34m[48]#011train-rmse:0.31235#011validation-rmse:0.31141\u001b[0m\n",
      "\u001b[34m[49]#011train-rmse:0.31235#011validation-rmse:0.31141\u001b[0m\n",
      "\u001b[34m[50]#011train-rmse:0.31235#011validation-rmse:0.31140\u001b[0m\n",
      "\u001b[34m[51]#011train-rmse:0.31235#011validation-rmse:0.31140\u001b[0m\n",
      "\u001b[34m[52]#011train-rmse:0.31235#011validation-rmse:0.31140\u001b[0m\n",
      "\u001b[34m[53]#011train-rmse:0.31235#011validation-rmse:0.31140\u001b[0m\n",
      "\u001b[34m[54]#011train-rmse:0.31235#011validation-rmse:0.31140\u001b[0m\n",
      "\u001b[34m[55]#011train-rmse:0.31235#011validation-rmse:0.31140\u001b[0m\n",
      "\u001b[34m[56]#011train-rmse:0.31235#011validation-rmse:0.31140\u001b[0m\n",
      "\u001b[34m[57]#011train-rmse:0.31205#011validation-rmse:0.31114\u001b[0m\n",
      "\u001b[34m[58]#011train-rmse:0.31205#011validation-rmse:0.31114\u001b[0m\n",
      "\u001b[34m[59]#011train-rmse:0.31205#011validation-rmse:0.31114\u001b[0m\n",
      "\u001b[34m[60]#011train-rmse:0.31205#011validation-rmse:0.31114\u001b[0m\n",
      "\u001b[34m[61]#011train-rmse:0.31205#011validation-rmse:0.31114\u001b[0m\n",
      "\u001b[34m[62]#011train-rmse:0.31205#011validation-rmse:0.31114\u001b[0m\n",
      "\u001b[34m[63]#011train-rmse:0.31205#011validation-rmse:0.31114\u001b[0m\n",
      "\u001b[34m[64]#011train-rmse:0.31205#011validation-rmse:0.31115\u001b[0m\n",
      "\u001b[34m[65]#011train-rmse:0.31205#011validation-rmse:0.31114\u001b[0m\n",
      "\u001b[34m[66]#011train-rmse:0.31205#011validation-rmse:0.31115\u001b[0m\n",
      "\u001b[34m[67]#011train-rmse:0.31205#011validation-rmse:0.31114\u001b[0m\n",
      "\u001b[34m[68]#011train-rmse:0.31205#011validation-rmse:0.31114\u001b[0m\n",
      "\u001b[34m[69]#011train-rmse:0.31205#011validation-rmse:0.31114\u001b[0m\n",
      "\u001b[34m[70]#011train-rmse:0.31205#011validation-rmse:0.31115\u001b[0m\n",
      "\n",
      "2021-10-15 22:38:43 Uploading - Uploading generated training model\n",
      "2021-10-15 22:38:43 Completed - Training job completed\n",
      "Training seconds: 86\n",
      "Billable seconds: 86\n"
     ]
    }
   ],
   "source": [
    "## Fit model\n",
    "xgb.fit({'train': s3_input_train, 'validation': s3_input_validation})"
   ]
  },
  {
   "cell_type": "code",
   "execution_count": 74,
   "id": "4a00bf47",
   "metadata": {},
   "outputs": [
    {
     "name": "stderr",
     "output_type": "stream",
     "text": [
      "Parameter image will be renamed to image_uri in SageMaker Python SDK v2.\n"
     ]
    }
   ],
   "source": [
    "## Create a transformer object from the trained model.\n",
    "xgb_transformer = xgb.transformer(instance_count = 1, instance_type = 'ml.m4.xlarge')"
   ]
  },
  {
   "cell_type": "code",
   "execution_count": 75,
   "id": "7cba1fd2",
   "metadata": {},
   "outputs": [
    {
     "name": "stdout",
     "output_type": "stream",
     "text": [
      "......................................\u001b[34m[2021-10-15:22:45:25:INFO] No GPUs detected (normal if no gpus installed)\u001b[0m\n",
      "\u001b[34m[2021-10-15:22:45:25:INFO] No GPUs detected (normal if no gpus installed)\u001b[0m\n",
      "\u001b[34m[2021-10-15:22:45:25:INFO] nginx config: \u001b[0m\n",
      "\u001b[34mworker_processes auto;\u001b[0m\n",
      "\u001b[34mdaemon off;\u001b[0m\n",
      "\u001b[34mpid /tmp/nginx.pid;\u001b[0m\n",
      "\u001b[34merror_log  /dev/stderr;\n",
      "\u001b[0m\n",
      "\u001b[34mworker_rlimit_nofile 4096;\n",
      "\u001b[0m\n",
      "\u001b[34mevents {\n",
      "  worker_connections 2048;\u001b[0m\n",
      "\u001b[34m}\n",
      "\u001b[0m\n",
      "\u001b[34mhttp {\n",
      "  include /etc/nginx/mime.types;\n",
      "  default_type application/octet-stream;\n",
      "  access_log /dev/stdout combined;\n",
      "\n",
      "  upstream gunicorn {\n",
      "    server unix:/tmp/gunicorn.sock;\n",
      "  }\n",
      "\n",
      "  server {\n",
      "    listen 8080 deferred;\n",
      "    client_max_body_size 0;\n",
      "\n",
      "    keepalive_timeout 3;\n",
      "\n",
      "    location ~ ^/(ping|invocations|execution-parameters) {\n",
      "      proxy_set_header X-Forwarded-For $proxy_add_x_forwarded_for;\n",
      "      proxy_set_header Host $http_host;\n",
      "      proxy_redirect off;\n",
      "      proxy_read_timeout 60s;\n",
      "      proxy_pass http://gunicorn;\n",
      "    }\n",
      "\n",
      "    location / {\n",
      "      return 404 \"{}\";\n",
      "    }\n",
      "\n",
      "  }\u001b[0m\n",
      "\u001b[34m}\n",
      "\n",
      "\u001b[0m\n",
      "\u001b[34m[2021-10-15 22:45:25 +0000] [17] [INFO] Starting gunicorn 19.10.0\u001b[0m\n",
      "\u001b[34m[2021-10-15 22:45:25 +0000] [17] [INFO] Listening at: unix:/tmp/gunicorn.sock (17)\u001b[0m\n",
      "\u001b[34m[2021-10-15 22:45:25 +0000] [17] [INFO] Using worker: gevent\u001b[0m\n",
      "\u001b[34m[2021-10-15 22:45:25 +0000] [24] [INFO] Booting worker with pid: 24\u001b[0m\n",
      "\u001b[34m[2021-10-15 22:45:25 +0000] [25] [INFO] Booting worker with pid: 25\u001b[0m\n",
      "\u001b[34m[2021-10-15 22:45:25 +0000] [26] [INFO] Booting worker with pid: 26\u001b[0m\n",
      "\u001b[34m[2021-10-15 22:45:25 +0000] [27] [INFO] Booting worker with pid: 27\u001b[0m\n",
      "\u001b[34m[2021-10-15:22:45:31:INFO] No GPUs detected (normal if no gpus installed)\u001b[0m\n",
      "\u001b[34m169.254.255.130 - - [15/Oct/2021:22:45:31 +0000] \"GET /ping HTTP/1.1\" 200 0 \"-\" \"Go-http-client/1.1\"\u001b[0m\n",
      "\u001b[34m169.254.255.130 - - [15/Oct/2021:22:45:31 +0000] \"GET /execution-parameters HTTP/1.1\" 200 84 \"-\" \"Go-http-client/1.1\"\u001b[0m\n",
      "\u001b[34m[2021-10-15:22:45:31:INFO] No GPUs detected (normal if no gpus installed)\u001b[0m\n",
      "\u001b[34m[2021-10-15:22:45:31:INFO] Determined delimiter of CSV input is ','\u001b[0m\n",
      "\u001b[34m169.254.255.130 - - [15/Oct/2021:22:45:31 +0000] \"POST /invocations HTTP/1.1\" 200 4256 \"-\" \"Go-http-client/1.1\"\u001b[0m\n",
      "\u001b[34m[2021-10-15:22:45:31:INFO] Determined delimiter of CSV input is ','\u001b[0m\n",
      "\u001b[34m169.254.255.130 - - [15/Oct/2021:22:45:33 +0000] \"POST /invocations HTTP/1.1\" 200 296164 \"-\" \"Go-http-client/1.1\"\u001b[0m\n",
      "\n",
      "\u001b[32m2021-10-15T22:45:31.289:[sagemaker logs]: MaxConcurrentTransforms=4, MaxPayloadInMB=6, BatchStrategy=MULTI_RECORD\u001b[0m\n"
     ]
    }
   ],
   "source": [
    "## Start the transform job. \n",
    "xgb_transformer.transform(test_location, content_type='text/csv', split_type='Line')\n",
    "xgb_transformer.wait()"
   ]
  },
  {
   "cell_type": "code",
   "execution_count": 76,
   "id": "8b12e383",
   "metadata": {},
   "outputs": [
    {
     "name": "stdout",
     "output_type": "stream",
     "text": [
      "download: s3://sagemaker-us-east-1-928066657719/sagemaker-xgboost-2021-10-15-22-39-13-543/test.csv.out to ../data/test.csv.out\r\n"
     ]
    }
   ],
   "source": [
    "## Remove the loaded data and folder.\n",
    "!aws s3 cp --recursive $xgb_transformer.output_path $data_dir"
   ]
  },
  {
   "cell_type": "code",
   "execution_count": 77,
   "id": "ffc0b221",
   "metadata": {},
   "outputs": [],
   "source": [
    "predictions = pd.read_csv(os.path.join(data_dir, 'test.csv.out'), header=None)\n",
    "predictions = [round(num) for num in predictions.squeeze().values]"
   ]
  },
  {
   "cell_type": "code",
   "execution_count": 80,
   "id": "2811afba",
   "metadata": {},
   "outputs": [
    {
     "data": {
      "text/plain": [
       "0.8593625498007968"
      ]
     },
     "execution_count": 80,
     "metadata": {},
     "output_type": "execute_result"
    }
   ],
   "source": [
    "from sklearn.metrics import accuracy_score\n",
    "accuracy_score(Y_test, predictions)"
   ]
  },
  {
   "cell_type": "markdown",
   "id": "9aef0191",
   "metadata": {},
   "source": [
    "### The result is similar to the regular XGBoost model."
   ]
  },
  {
   "cell_type": "code",
   "execution_count": null,
   "id": "6989462e",
   "metadata": {},
   "outputs": [],
   "source": []
  },
  {
   "cell_type": "code",
   "execution_count": null,
   "id": "6ff53c4e",
   "metadata": {},
   "outputs": [],
   "source": []
  }
 ],
 "metadata": {
  "kernelspec": {
   "display_name": "Python 3 (ipykernel)",
   "language": "python",
   "name": "python3"
  },
  "language_info": {
   "codemirror_mode": {
    "name": "ipython",
    "version": 3
   },
   "file_extension": ".py",
   "mimetype": "text/x-python",
   "name": "python",
   "nbconvert_exporter": "python",
   "pygments_lexer": "ipython3",
   "version": "3.8.11"
  },
  "varInspector": {
   "cols": {
    "lenName": 16,
    "lenType": 16,
    "lenVar": 40
   },
   "kernels_config": {
    "python": {
     "delete_cmd_postfix": "",
     "delete_cmd_prefix": "del ",
     "library": "var_list.py",
     "varRefreshCmd": "print(var_dic_list())"
    },
    "r": {
     "delete_cmd_postfix": ") ",
     "delete_cmd_prefix": "rm(",
     "library": "var_list.r",
     "varRefreshCmd": "cat(var_dic_list()) "
    }
   },
   "types_to_exclude": [
    "module",
    "function",
    "builtin_function_or_method",
    "instance",
    "_Feature"
   ],
   "window_display": false
  }
 },
 "nbformat": 4,
 "nbformat_minor": 5
}
