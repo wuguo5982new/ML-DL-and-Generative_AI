{
 "cells": [
  {
   "cell_type": "markdown",
   "id": "581ba8c9",
   "metadata": {},
   "source": [
    "## Classification Prediction With Different Models\n",
    "In this project, we used different models, including XGBoost, Logistic, SVM, Random Forest, DNN and ANN, to predict whether the income will be >50k or <=50k for each adult in the test dataset.\n",
    "\n",
    "By comparison, We found that models of XGBoost and Random Forest perform better than Logistic and SVM, especially XGBoost seems to be the most promising algorithm among all of them."
   ]
  },
  {
   "cell_type": "code",
   "execution_count": null,
   "id": "afc45b8f",
   "metadata": {},
   "outputs": [],
   "source": [
    "import pandas as pd\n",
    "import numpy as np\n",
    "import seaborn as sns\n",
    "import matplotlib.pyplot as plt\n",
    "from sklearn.metrics import accuracy_score\n",
    "from sklearn.metrics import confusion_matrix, classification_report\n",
    "import tensorflow \n",
    "for gpu in tensorflow.config.experimental.list_physical_devices(\"GPU\"):\n",
    "    tensorflow.config.experimental.set_memory_growth(gpu, True)"
   ]
  },
  {
   "cell_type": "markdown",
   "id": "ac6b728d",
   "metadata": {},
   "source": [
    "## Load training data dataset."
   ]
  },
  {
   "cell_type": "code",
   "execution_count": 2,
   "id": "2fcd333e",
   "metadata": {},
   "outputs": [
    {
     "name": "stdout",
     "output_type": "stream",
     "text": [
      "(32561, 15)\n"
     ]
    },
    {
     "data": {
      "text/html": [
       "<div>\n",
       "<style scoped>\n",
       "    .dataframe tbody tr th:only-of-type {\n",
       "        vertical-align: middle;\n",
       "    }\n",
       "\n",
       "    .dataframe tbody tr th {\n",
       "        vertical-align: top;\n",
       "    }\n",
       "\n",
       "    .dataframe thead th {\n",
       "        text-align: right;\n",
       "    }\n",
       "</style>\n",
       "<table border=\"1\" class=\"dataframe\">\n",
       "  <thead>\n",
       "    <tr style=\"text-align: right;\">\n",
       "      <th></th>\n",
       "      <th>age</th>\n",
       "      <th>workclass</th>\n",
       "      <th>fnlwgt</th>\n",
       "      <th>education</th>\n",
       "      <th>education-num</th>\n",
       "      <th>marital-status</th>\n",
       "      <th>occupation</th>\n",
       "      <th>relationship</th>\n",
       "      <th>race</th>\n",
       "      <th>sex</th>\n",
       "      <th>capital-gain</th>\n",
       "      <th>capital-loss</th>\n",
       "      <th>hours-per-week</th>\n",
       "      <th>native-country</th>\n",
       "      <th>income</th>\n",
       "    </tr>\n",
       "  </thead>\n",
       "  <tbody>\n",
       "    <tr>\n",
       "      <th>0</th>\n",
       "      <td>39</td>\n",
       "      <td>State-gov</td>\n",
       "      <td>77516</td>\n",
       "      <td>Bachelors</td>\n",
       "      <td>13</td>\n",
       "      <td>Never-married</td>\n",
       "      <td>Adm-clerical</td>\n",
       "      <td>Not-in-family</td>\n",
       "      <td>White</td>\n",
       "      <td>Male</td>\n",
       "      <td>2174</td>\n",
       "      <td>0</td>\n",
       "      <td>40</td>\n",
       "      <td>United-States</td>\n",
       "      <td>&lt;=50K</td>\n",
       "    </tr>\n",
       "    <tr>\n",
       "      <th>1</th>\n",
       "      <td>50</td>\n",
       "      <td>Self-emp-not-inc</td>\n",
       "      <td>83311</td>\n",
       "      <td>Bachelors</td>\n",
       "      <td>13</td>\n",
       "      <td>Married-civ-spouse</td>\n",
       "      <td>Exec-managerial</td>\n",
       "      <td>Husband</td>\n",
       "      <td>White</td>\n",
       "      <td>Male</td>\n",
       "      <td>0</td>\n",
       "      <td>0</td>\n",
       "      <td>13</td>\n",
       "      <td>United-States</td>\n",
       "      <td>&lt;=50K</td>\n",
       "    </tr>\n",
       "    <tr>\n",
       "      <th>2</th>\n",
       "      <td>38</td>\n",
       "      <td>Private</td>\n",
       "      <td>215646</td>\n",
       "      <td>HS-grad</td>\n",
       "      <td>9</td>\n",
       "      <td>Divorced</td>\n",
       "      <td>Handlers-cleaners</td>\n",
       "      <td>Not-in-family</td>\n",
       "      <td>White</td>\n",
       "      <td>Male</td>\n",
       "      <td>0</td>\n",
       "      <td>0</td>\n",
       "      <td>40</td>\n",
       "      <td>United-States</td>\n",
       "      <td>&lt;=50K</td>\n",
       "    </tr>\n",
       "    <tr>\n",
       "      <th>3</th>\n",
       "      <td>53</td>\n",
       "      <td>Private</td>\n",
       "      <td>234721</td>\n",
       "      <td>11th</td>\n",
       "      <td>7</td>\n",
       "      <td>Married-civ-spouse</td>\n",
       "      <td>Handlers-cleaners</td>\n",
       "      <td>Husband</td>\n",
       "      <td>Black</td>\n",
       "      <td>Male</td>\n",
       "      <td>0</td>\n",
       "      <td>0</td>\n",
       "      <td>40</td>\n",
       "      <td>United-States</td>\n",
       "      <td>&lt;=50K</td>\n",
       "    </tr>\n",
       "    <tr>\n",
       "      <th>4</th>\n",
       "      <td>28</td>\n",
       "      <td>Private</td>\n",
       "      <td>338409</td>\n",
       "      <td>Bachelors</td>\n",
       "      <td>13</td>\n",
       "      <td>Married-civ-spouse</td>\n",
       "      <td>Prof-specialty</td>\n",
       "      <td>Wife</td>\n",
       "      <td>Black</td>\n",
       "      <td>Female</td>\n",
       "      <td>0</td>\n",
       "      <td>0</td>\n",
       "      <td>40</td>\n",
       "      <td>Cuba</td>\n",
       "      <td>&lt;=50K</td>\n",
       "    </tr>\n",
       "  </tbody>\n",
       "</table>\n",
       "</div>"
      ],
      "text/plain": [
       "   age         workclass  fnlwgt  education  education-num  \\\n",
       "0   39         State-gov   77516  Bachelors             13   \n",
       "1   50  Self-emp-not-inc   83311  Bachelors             13   \n",
       "2   38           Private  215646    HS-grad              9   \n",
       "3   53           Private  234721       11th              7   \n",
       "4   28           Private  338409  Bachelors             13   \n",
       "\n",
       "       marital-status         occupation   relationship   race     sex  \\\n",
       "0       Never-married       Adm-clerical  Not-in-family  White    Male   \n",
       "1  Married-civ-spouse    Exec-managerial        Husband  White    Male   \n",
       "2            Divorced  Handlers-cleaners  Not-in-family  White    Male   \n",
       "3  Married-civ-spouse  Handlers-cleaners        Husband  Black    Male   \n",
       "4  Married-civ-spouse     Prof-specialty           Wife  Black  Female   \n",
       "\n",
       "   capital-gain  capital-loss  hours-per-week native-country income  \n",
       "0          2174             0              40  United-States  <=50K  \n",
       "1             0             0              13  United-States  <=50K  \n",
       "2             0             0              40  United-States  <=50K  \n",
       "3             0             0              40  United-States  <=50K  \n",
       "4             0             0              40           Cuba  <=50K  "
      ]
     },
     "metadata": {},
     "output_type": "display_data"
    }
   ],
   "source": [
    "train_data = pd.read_csv('adult_trdata.csv', names=['age','workclass', 'fnlwgt', 'education', 'education-num', 'marital-status',\n",
    "                                                     'occupation', 'relationship', 'race', 'sex', 'capital-gain', 'capital-loss',\n",
    "# replace '?' with null                                                     'hours-per-week', 'native-country', 'income'],sep=',\\s', na_values=[\"?\"],engine='python')\n",
    "print(train_data.shape)\n",
    "display(train_data.head())"
   ]
  },
  {
   "cell_type": "code",
   "execution_count": 3,
   "id": "4bac05e2",
   "metadata": {},
   "outputs": [
    {
     "data": {
      "text/plain": [
       "age                  0\n",
       "workclass         1836\n",
       "fnlwgt               0\n",
       "education            0\n",
       "education-num        0\n",
       "marital-status       0\n",
       "occupation        1843\n",
       "relationship         0\n",
       "race                 0\n",
       "sex                  0\n",
       "capital-gain         0\n",
       "capital-loss         0\n",
       "hours-per-week       0\n",
       "native-country     583\n",
       "income               0\n",
       "dtype: int64"
      ]
     },
     "execution_count": 3,
     "metadata": {},
     "output_type": "execute_result"
    }
   ],
   "source": [
    "## Check the null\n",
    "train_data.isnull().sum()"
   ]
  },
  {
   "cell_type": "code",
   "execution_count": 4,
   "id": "064fab8c",
   "metadata": {},
   "outputs": [
    {
     "data": {
      "text/plain": [
       "(30162, 15)"
      ]
     },
     "execution_count": 4,
     "metadata": {},
     "output_type": "execute_result"
    }
   ],
   "source": [
    "new_train = train_data.dropna()\n",
    "new_train.shape"
   ]
  },
  {
   "cell_type": "code",
   "execution_count": 5,
   "id": "2ec95960",
   "metadata": {},
   "outputs": [
    {
     "data": {
      "text/plain": [
       "Private             22286\n",
       "Self-emp-not-inc     2499\n",
       "Local-gov            2067\n",
       "State-gov            1279\n",
       "Self-emp-inc         1074\n",
       "Federal-gov           943\n",
       "Without-pay            14\n",
       "Name: workclass, dtype: int64"
      ]
     },
     "execution_count": 5,
     "metadata": {},
     "output_type": "execute_result"
    }
   ],
   "source": [
    "new_train['workclass'].value_counts()"
   ]
  },
  {
   "cell_type": "code",
   "execution_count": 6,
   "id": "fdff000c",
   "metadata": {},
   "outputs": [
    {
     "data": {
      "text/plain": [
       "HS-grad         9840\n",
       "Some-college    6678\n",
       "Bachelors       5044\n",
       "Masters         1627\n",
       "Assoc-voc       1307\n",
       "11th            1048\n",
       "Assoc-acdm      1008\n",
       "10th             820\n",
       "7th-8th          557\n",
       "Prof-school      542\n",
       "9th              455\n",
       "12th             377\n",
       "Doctorate        375\n",
       "5th-6th          288\n",
       "1st-4th          151\n",
       "Preschool         45\n",
       "Name: education, dtype: int64"
      ]
     },
     "execution_count": 6,
     "metadata": {},
     "output_type": "execute_result"
    }
   ],
   "source": [
    "new_train['education'].value_counts()"
   ]
  },
  {
   "cell_type": "code",
   "execution_count": 7,
   "id": "a3f3a8cb",
   "metadata": {},
   "outputs": [
    {
     "data": {
      "text/plain": [
       "<=50K    22654\n",
       ">50K      7508\n",
       "Name: income, dtype: int64"
      ]
     },
     "execution_count": 7,
     "metadata": {},
     "output_type": "execute_result"
    }
   ],
   "source": [
    "new_train['income'].value_counts()"
   ]
  },
  {
   "cell_type": "code",
   "execution_count": 8,
   "id": "aaf1e8a6",
   "metadata": {},
   "outputs": [
    {
     "data": {
      "text/plain": [
       "age                int64\n",
       "workclass         object\n",
       "fnlwgt             int64\n",
       "education         object\n",
       "education-num      int64\n",
       "marital-status    object\n",
       "occupation        object\n",
       "relationship      object\n",
       "race              object\n",
       "sex               object\n",
       "capital-gain       int64\n",
       "capital-loss       int64\n",
       "hours-per-week     int64\n",
       "native-country    object\n",
       "income            object\n",
       "dtype: object"
      ]
     },
     "execution_count": 8,
     "metadata": {},
     "output_type": "execute_result"
    }
   ],
   "source": [
    "new_train.dtypes"
   ]
  },
  {
   "cell_type": "code",
   "execution_count": 9,
   "id": "3eaaf61a",
   "metadata": {},
   "outputs": [
    {
     "data": {
      "text/plain": [
       "<AxesSubplot:>"
      ]
     },
     "execution_count": 9,
     "metadata": {},
     "output_type": "execute_result"
    },
    {
     "data": {
      "image/png": "[encoded data removed]",
      "text/plain": [
       "<Figure size 720x720 with 1 Axes>"
      ]
     },
     "metadata": {
      "needs_background": "light"
     },
     "output_type": "display_data"
    }
   ],
   "source": [
    "## Features correlation analysis.\n",
    "plt.figure(figsize = (10, 10))\n",
    "corr_matrix = new_train[['age', 'fnlwgt', 'education-num', 'capital-gain', 'capital-loss', 'hours-per-week']].corr()\n",
    "sns.heatmap(corr_matrix, annot = True, cbar = False)"
   ]
  },
  {
   "cell_type": "code",
   "execution_count": 10,
   "id": "9496cb51",
   "metadata": {},
   "outputs": [
    {
     "data": {
      "text/plain": [
       "age                int64\n",
       "workclass         object\n",
       "fnlwgt             int64\n",
       "education         object\n",
       "education-num      int64\n",
       "marital-status    object\n",
       "occupation        object\n",
       "relationship      object\n",
       "race              object\n",
       "sex               object\n",
       "capital-gain       int64\n",
       "capital-loss       int64\n",
       "hours-per-week     int64\n",
       "native-country    object\n",
       "income            object\n",
       "dtype: object"
      ]
     },
     "execution_count": 10,
     "metadata": {},
     "output_type": "execute_result"
    }
   ],
   "source": [
    "new_train.dtypes"
   ]
  },
  {
   "cell_type": "code",
   "execution_count": 11,
   "id": "46057a86",
   "metadata": {},
   "outputs": [
    {
     "name": "stderr",
     "output_type": "stream",
     "text": [
      "C:\\Users\\Sealion\\anaconda3\\envs\\python38\\lib\\site-packages\\pandas\\core\\frame.py:4906: SettingWithCopyWarning: \n",
      "A value is trying to be set on a copy of a slice from a DataFrame\n",
      "\n",
      "See the caveats in the documentation: https://pandas.pydata.org/pandas-docs/stable/user_guide/indexing.html#returning-a-view-versus-a-copy\n",
      "  return super().drop(\n"
     ]
    },
    {
     "data": {
      "text/plain": [
       "(30162, 105)"
      ]
     },
     "execution_count": 11,
     "metadata": {},
     "output_type": "execute_result"
    }
   ],
   "source": [
    "# Dummy for categorical variables (training dataset)\n",
    "def dummies(x):\n",
    "    dummy = pd.get_dummies(new_train[x])\n",
    "    new_train.drop(columns = x, inplace = True)\n",
    "    return pd.concat([new_train, dummy], axis=1)\n",
    "\n",
    "new_train = dummies('workclass')\n",
    "new_train = dummies('education')\n",
    "new_train = dummies('marital-status')\n",
    "new_train = dummies('occupation')\n",
    "new_train = dummies('relationship')\n",
    "new_train = dummies('race')\n",
    "new_train = dummies('sex')\n",
    "new_train = dummies('native-country')\n",
    "new_train.shape"
   ]
  },
  {
   "cell_type": "code",
   "execution_count": 12,
   "id": "3f434199",
   "metadata": {},
   "outputs": [
    {
     "data": {
      "text/html": [
       "<div>\n",
       "<style scoped>\n",
       "    .dataframe tbody tr th:only-of-type {\n",
       "        vertical-align: middle;\n",
       "    }\n",
       "\n",
       "    .dataframe tbody tr th {\n",
       "        vertical-align: top;\n",
       "    }\n",
       "\n",
       "    .dataframe thead th {\n",
       "        text-align: right;\n",
       "    }\n",
       "</style>\n",
       "<table border=\"1\" class=\"dataframe\">\n",
       "  <thead>\n",
       "    <tr style=\"text-align: right;\">\n",
       "      <th></th>\n",
       "      <th>age</th>\n",
       "      <th>fnlwgt</th>\n",
       "      <th>education-num</th>\n",
       "      <th>capital-gain</th>\n",
       "      <th>capital-loss</th>\n",
       "      <th>hours-per-week</th>\n",
       "      <th>income</th>\n",
       "      <th>Federal-gov</th>\n",
       "      <th>Local-gov</th>\n",
       "      <th>Private</th>\n",
       "      <th>...</th>\n",
       "      <th>Portugal</th>\n",
       "      <th>Puerto-Rico</th>\n",
       "      <th>Scotland</th>\n",
       "      <th>South</th>\n",
       "      <th>Taiwan</th>\n",
       "      <th>Thailand</th>\n",
       "      <th>Trinadad&amp;Tobago</th>\n",
       "      <th>United-States</th>\n",
       "      <th>Vietnam</th>\n",
       "      <th>Yugoslavia</th>\n",
       "    </tr>\n",
       "  </thead>\n",
       "  <tbody>\n",
       "    <tr>\n",
       "      <th>0</th>\n",
       "      <td>39</td>\n",
       "      <td>77516</td>\n",
       "      <td>13</td>\n",
       "      <td>2174</td>\n",
       "      <td>0</td>\n",
       "      <td>40</td>\n",
       "      <td>&lt;=50K</td>\n",
       "      <td>0</td>\n",
       "      <td>0</td>\n",
       "      <td>0</td>\n",
       "      <td>...</td>\n",
       "      <td>0</td>\n",
       "      <td>0</td>\n",
       "      <td>0</td>\n",
       "      <td>0</td>\n",
       "      <td>0</td>\n",
       "      <td>0</td>\n",
       "      <td>0</td>\n",
       "      <td>1</td>\n",
       "      <td>0</td>\n",
       "      <td>0</td>\n",
       "    </tr>\n",
       "    <tr>\n",
       "      <th>1</th>\n",
       "      <td>50</td>\n",
       "      <td>83311</td>\n",
       "      <td>13</td>\n",
       "      <td>0</td>\n",
       "      <td>0</td>\n",
       "      <td>13</td>\n",
       "      <td>&lt;=50K</td>\n",
       "      <td>0</td>\n",
       "      <td>0</td>\n",
       "      <td>0</td>\n",
       "      <td>...</td>\n",
       "      <td>0</td>\n",
       "      <td>0</td>\n",
       "      <td>0</td>\n",
       "      <td>0</td>\n",
       "      <td>0</td>\n",
       "      <td>0</td>\n",
       "      <td>0</td>\n",
       "      <td>1</td>\n",
       "      <td>0</td>\n",
       "      <td>0</td>\n",
       "    </tr>\n",
       "    <tr>\n",
       "      <th>2</th>\n",
       "      <td>38</td>\n",
       "      <td>215646</td>\n",
       "      <td>9</td>\n",
       "      <td>0</td>\n",
       "      <td>0</td>\n",
       "      <td>40</td>\n",
       "      <td>&lt;=50K</td>\n",
       "      <td>0</td>\n",
       "      <td>0</td>\n",
       "      <td>1</td>\n",
       "      <td>...</td>\n",
       "      <td>0</td>\n",
       "      <td>0</td>\n",
       "      <td>0</td>\n",
       "      <td>0</td>\n",
       "      <td>0</td>\n",
       "      <td>0</td>\n",
       "      <td>0</td>\n",
       "      <td>1</td>\n",
       "      <td>0</td>\n",
       "      <td>0</td>\n",
       "    </tr>\n",
       "    <tr>\n",
       "      <th>3</th>\n",
       "      <td>53</td>\n",
       "      <td>234721</td>\n",
       "      <td>7</td>\n",
       "      <td>0</td>\n",
       "      <td>0</td>\n",
       "      <td>40</td>\n",
       "      <td>&lt;=50K</td>\n",
       "      <td>0</td>\n",
       "      <td>0</td>\n",
       "      <td>1</td>\n",
       "      <td>...</td>\n",
       "      <td>0</td>\n",
       "      <td>0</td>\n",
       "      <td>0</td>\n",
       "      <td>0</td>\n",
       "      <td>0</td>\n",
       "      <td>0</td>\n",
       "      <td>0</td>\n",
       "      <td>1</td>\n",
       "      <td>0</td>\n",
       "      <td>0</td>\n",
       "    </tr>\n",
       "    <tr>\n",
       "      <th>4</th>\n",
       "      <td>28</td>\n",
       "      <td>338409</td>\n",
       "      <td>13</td>\n",
       "      <td>0</td>\n",
       "      <td>0</td>\n",
       "      <td>40</td>\n",
       "      <td>&lt;=50K</td>\n",
       "      <td>0</td>\n",
       "      <td>0</td>\n",
       "      <td>1</td>\n",
       "      <td>...</td>\n",
       "      <td>0</td>\n",
       "      <td>0</td>\n",
       "      <td>0</td>\n",
       "      <td>0</td>\n",
       "      <td>0</td>\n",
       "      <td>0</td>\n",
       "      <td>0</td>\n",
       "      <td>0</td>\n",
       "      <td>0</td>\n",
       "      <td>0</td>\n",
       "    </tr>\n",
       "  </tbody>\n",
       "</table>\n",
       "<p>5 rows × 105 columns</p>\n",
       "</div>"
      ],
      "text/plain": [
       "   age  fnlwgt  education-num  capital-gain  capital-loss  hours-per-week  \\\n",
       "0   39   77516             13          2174             0              40   \n",
       "1   50   83311             13             0             0              13   \n",
       "2   38  215646              9             0             0              40   \n",
       "3   53  234721              7             0             0              40   \n",
       "4   28  338409             13             0             0              40   \n",
       "\n",
       "  income  Federal-gov  Local-gov  Private  ...  Portugal  Puerto-Rico  \\\n",
       "0  <=50K            0          0        0  ...         0            0   \n",
       "1  <=50K            0          0        0  ...         0            0   \n",
       "2  <=50K            0          0        1  ...         0            0   \n",
       "3  <=50K            0          0        1  ...         0            0   \n",
       "4  <=50K            0          0        1  ...         0            0   \n",
       "\n",
       "   Scotland  South  Taiwan  Thailand  Trinadad&Tobago  United-States  Vietnam  \\\n",
       "0         0      0       0         0                0              1        0   \n",
       "1         0      0       0         0                0              1        0   \n",
       "2         0      0       0         0                0              1        0   \n",
       "3         0      0       0         0                0              1        0   \n",
       "4         0      0       0         0                0              0        0   \n",
       "\n",
       "   Yugoslavia  \n",
       "0           0  \n",
       "1           0  \n",
       "2           0  \n",
       "3           0  \n",
       "4           0  \n",
       "\n",
       "[5 rows x 105 columns]"
      ]
     },
     "execution_count": 12,
     "metadata": {},
     "output_type": "execute_result"
    }
   ],
   "source": [
    "new_train.head()"
   ]
  },
  {
   "cell_type": "code",
   "execution_count": 13,
   "id": "d7275567",
   "metadata": {},
   "outputs": [
    {
     "data": {
      "text/html": [
       "<div>\n",
       "<style scoped>\n",
       "    .dataframe tbody tr th:only-of-type {\n",
       "        vertical-align: middle;\n",
       "    }\n",
       "\n",
       "    .dataframe tbody tr th {\n",
       "        vertical-align: top;\n",
       "    }\n",
       "\n",
       "    .dataframe thead th {\n",
       "        text-align: right;\n",
       "    }\n",
       "</style>\n",
       "<table border=\"1\" class=\"dataframe\">\n",
       "  <thead>\n",
       "    <tr style=\"text-align: right;\">\n",
       "      <th></th>\n",
       "      <th>age</th>\n",
       "      <th>fnlwgt</th>\n",
       "      <th>education-num</th>\n",
       "      <th>capital-gain</th>\n",
       "      <th>capital-loss</th>\n",
       "      <th>hours-per-week</th>\n",
       "      <th>income</th>\n",
       "      <th>Federal-gov</th>\n",
       "      <th>Local-gov</th>\n",
       "      <th>Private</th>\n",
       "      <th>...</th>\n",
       "      <th>Portugal</th>\n",
       "      <th>Puerto-Rico</th>\n",
       "      <th>Scotland</th>\n",
       "      <th>South</th>\n",
       "      <th>Taiwan</th>\n",
       "      <th>Thailand</th>\n",
       "      <th>Trinadad&amp;Tobago</th>\n",
       "      <th>United-States</th>\n",
       "      <th>Vietnam</th>\n",
       "      <th>Yugoslavia</th>\n",
       "    </tr>\n",
       "  </thead>\n",
       "  <tbody>\n",
       "    <tr>\n",
       "      <th>0</th>\n",
       "      <td>39</td>\n",
       "      <td>77516</td>\n",
       "      <td>13</td>\n",
       "      <td>2174</td>\n",
       "      <td>0</td>\n",
       "      <td>40</td>\n",
       "      <td>0</td>\n",
       "      <td>0</td>\n",
       "      <td>0</td>\n",
       "      <td>0</td>\n",
       "      <td>...</td>\n",
       "      <td>0</td>\n",
       "      <td>0</td>\n",
       "      <td>0</td>\n",
       "      <td>0</td>\n",
       "      <td>0</td>\n",
       "      <td>0</td>\n",
       "      <td>0</td>\n",
       "      <td>1</td>\n",
       "      <td>0</td>\n",
       "      <td>0</td>\n",
       "    </tr>\n",
       "    <tr>\n",
       "      <th>1</th>\n",
       "      <td>50</td>\n",
       "      <td>83311</td>\n",
       "      <td>13</td>\n",
       "      <td>0</td>\n",
       "      <td>0</td>\n",
       "      <td>13</td>\n",
       "      <td>0</td>\n",
       "      <td>0</td>\n",
       "      <td>0</td>\n",
       "      <td>0</td>\n",
       "      <td>...</td>\n",
       "      <td>0</td>\n",
       "      <td>0</td>\n",
       "      <td>0</td>\n",
       "      <td>0</td>\n",
       "      <td>0</td>\n",
       "      <td>0</td>\n",
       "      <td>0</td>\n",
       "      <td>1</td>\n",
       "      <td>0</td>\n",
       "      <td>0</td>\n",
       "    </tr>\n",
       "    <tr>\n",
       "      <th>2</th>\n",
       "      <td>38</td>\n",
       "      <td>215646</td>\n",
       "      <td>9</td>\n",
       "      <td>0</td>\n",
       "      <td>0</td>\n",
       "      <td>40</td>\n",
       "      <td>0</td>\n",
       "      <td>0</td>\n",
       "      <td>0</td>\n",
       "      <td>1</td>\n",
       "      <td>...</td>\n",
       "      <td>0</td>\n",
       "      <td>0</td>\n",
       "      <td>0</td>\n",
       "      <td>0</td>\n",
       "      <td>0</td>\n",
       "      <td>0</td>\n",
       "      <td>0</td>\n",
       "      <td>1</td>\n",
       "      <td>0</td>\n",
       "      <td>0</td>\n",
       "    </tr>\n",
       "    <tr>\n",
       "      <th>3</th>\n",
       "      <td>53</td>\n",
       "      <td>234721</td>\n",
       "      <td>7</td>\n",
       "      <td>0</td>\n",
       "      <td>0</td>\n",
       "      <td>40</td>\n",
       "      <td>0</td>\n",
       "      <td>0</td>\n",
       "      <td>0</td>\n",
       "      <td>1</td>\n",
       "      <td>...</td>\n",
       "      <td>0</td>\n",
       "      <td>0</td>\n",
       "      <td>0</td>\n",
       "      <td>0</td>\n",
       "      <td>0</td>\n",
       "      <td>0</td>\n",
       "      <td>0</td>\n",
       "      <td>1</td>\n",
       "      <td>0</td>\n",
       "      <td>0</td>\n",
       "    </tr>\n",
       "    <tr>\n",
       "      <th>4</th>\n",
       "      <td>28</td>\n",
       "      <td>338409</td>\n",
       "      <td>13</td>\n",
       "      <td>0</td>\n",
       "      <td>0</td>\n",
       "      <td>40</td>\n",
       "      <td>0</td>\n",
       "      <td>0</td>\n",
       "      <td>0</td>\n",
       "      <td>1</td>\n",
       "      <td>...</td>\n",
       "      <td>0</td>\n",
       "      <td>0</td>\n",
       "      <td>0</td>\n",
       "      <td>0</td>\n",
       "      <td>0</td>\n",
       "      <td>0</td>\n",
       "      <td>0</td>\n",
       "      <td>0</td>\n",
       "      <td>0</td>\n",
       "      <td>0</td>\n",
       "    </tr>\n",
       "  </tbody>\n",
       "</table>\n",
       "<p>5 rows × 105 columns</p>\n",
       "</div>"
      ],
      "text/plain": [
       "   age  fnlwgt  education-num  capital-gain  capital-loss  hours-per-week  \\\n",
       "0   39   77516             13          2174             0              40   \n",
       "1   50   83311             13             0             0              13   \n",
       "2   38  215646              9             0             0              40   \n",
       "3   53  234721              7             0             0              40   \n",
       "4   28  338409             13             0             0              40   \n",
       "\n",
       "   income  Federal-gov  Local-gov  Private  ...  Portugal  Puerto-Rico  \\\n",
       "0       0            0          0        0  ...         0            0   \n",
       "1       0            0          0        0  ...         0            0   \n",
       "2       0            0          0        1  ...         0            0   \n",
       "3       0            0          0        1  ...         0            0   \n",
       "4       0            0          0        1  ...         0            0   \n",
       "\n",
       "   Scotland  South  Taiwan  Thailand  Trinadad&Tobago  United-States  Vietnam  \\\n",
       "0         0      0       0         0                0              1        0   \n",
       "1         0      0       0         0                0              1        0   \n",
       "2         0      0       0         0                0              1        0   \n",
       "3         0      0       0         0                0              1        0   \n",
       "4         0      0       0         0                0              0        0   \n",
       "\n",
       "   Yugoslavia  \n",
       "0           0  \n",
       "1           0  \n",
       "2           0  \n",
       "3           0  \n",
       "4           0  \n",
       "\n",
       "[5 rows x 105 columns]"
      ]
     },
     "execution_count": 13,
     "metadata": {},
     "output_type": "execute_result"
    }
   ],
   "source": [
    "## Transfer column of income to binary feature.\n",
    "new_train['income'] = new_train['income'].apply(lambda x:1 if x =='>=50K' or x =='>50K' else 0)\n",
    "new_train.head()"
   ]
  },
  {
   "cell_type": "code",
   "execution_count": 14,
   "id": "84d97856",
   "metadata": {},
   "outputs": [
    {
     "data": {
      "text/plain": [
       "array([[<AxesSubplot:title={'center':'age'}>,\n",
       "        <AxesSubplot:title={'center':'fnlwgt'}>],\n",
       "       [<AxesSubplot:title={'center':'education-num'}>,\n",
       "        <AxesSubplot:title={'center':'capital-gain'}>],\n",
       "       [<AxesSubplot:title={'center':'capital-loss'}>,\n",
       "        <AxesSubplot:title={'center':'hours-per-week'}>]], dtype=object)"
      ]
     },
     "execution_count": 14,
     "metadata": {},
     "output_type": "execute_result"
    },
    {
     "data": {
      "image/png": "[encoded data removed]",
      "text/plain": [
       "<Figure size 1080x1080 with 6 Axes>"
      ]
     },
     "metadata": {
      "needs_background": "light"
     },
     "output_type": "display_data"
    }
   ],
   "source": [
    "## Visualiza the distribution.\n",
    "new_train.iloc[:, :6].hist(bins = 30, figsize = (15,15), color = 'b')"
   ]
  },
  {
   "cell_type": "markdown",
   "id": "23b5a172",
   "metadata": {},
   "source": [
    "## Load test dataset."
   ]
  },
  {
   "cell_type": "code",
   "execution_count": 15,
   "id": "698ce813",
   "metadata": {},
   "outputs": [
    {
     "name": "stdout",
     "output_type": "stream",
     "text": [
      "(16282, 15)\n",
      "(16281, 15)\n"
     ]
    },
    {
     "data": {
      "text/html": [
       "<div>\n",
       "<style scoped>\n",
       "    .dataframe tbody tr th:only-of-type {\n",
       "        vertical-align: middle;\n",
       "    }\n",
       "\n",
       "    .dataframe tbody tr th {\n",
       "        vertical-align: top;\n",
       "    }\n",
       "\n",
       "    .dataframe thead th {\n",
       "        text-align: right;\n",
       "    }\n",
       "</style>\n",
       "<table border=\"1\" class=\"dataframe\">\n",
       "  <thead>\n",
       "    <tr style=\"text-align: right;\">\n",
       "      <th></th>\n",
       "      <th>age</th>\n",
       "      <th>workclass</th>\n",
       "      <th>fnlwgt</th>\n",
       "      <th>education</th>\n",
       "      <th>education-num</th>\n",
       "      <th>marital-status</th>\n",
       "      <th>occupation</th>\n",
       "      <th>relationship</th>\n",
       "      <th>race</th>\n",
       "      <th>sex</th>\n",
       "      <th>capital-gain</th>\n",
       "      <th>capital-loss</th>\n",
       "      <th>hours-per-week</th>\n",
       "      <th>native-country</th>\n",
       "      <th>income</th>\n",
       "    </tr>\n",
       "  </thead>\n",
       "  <tbody>\n",
       "    <tr>\n",
       "      <th>0</th>\n",
       "      <td>25</td>\n",
       "      <td>Private</td>\n",
       "      <td>226802.0</td>\n",
       "      <td>11th</td>\n",
       "      <td>7.0</td>\n",
       "      <td>Never-married</td>\n",
       "      <td>Machine-op-inspct</td>\n",
       "      <td>Own-child</td>\n",
       "      <td>Black</td>\n",
       "      <td>Male</td>\n",
       "      <td>0.0</td>\n",
       "      <td>0.0</td>\n",
       "      <td>40.0</td>\n",
       "      <td>United-States</td>\n",
       "      <td>&lt;=50K.</td>\n",
       "    </tr>\n",
       "    <tr>\n",
       "      <th>1</th>\n",
       "      <td>38</td>\n",
       "      <td>Private</td>\n",
       "      <td>89814.0</td>\n",
       "      <td>HS-grad</td>\n",
       "      <td>9.0</td>\n",
       "      <td>Married-civ-spouse</td>\n",
       "      <td>Farming-fishing</td>\n",
       "      <td>Husband</td>\n",
       "      <td>White</td>\n",
       "      <td>Male</td>\n",
       "      <td>0.0</td>\n",
       "      <td>0.0</td>\n",
       "      <td>50.0</td>\n",
       "      <td>United-States</td>\n",
       "      <td>&lt;=50K.</td>\n",
       "    </tr>\n",
       "    <tr>\n",
       "      <th>2</th>\n",
       "      <td>28</td>\n",
       "      <td>Local-gov</td>\n",
       "      <td>336951.0</td>\n",
       "      <td>Assoc-acdm</td>\n",
       "      <td>12.0</td>\n",
       "      <td>Married-civ-spouse</td>\n",
       "      <td>Protective-serv</td>\n",
       "      <td>Husband</td>\n",
       "      <td>White</td>\n",
       "      <td>Male</td>\n",
       "      <td>0.0</td>\n",
       "      <td>0.0</td>\n",
       "      <td>40.0</td>\n",
       "      <td>United-States</td>\n",
       "      <td>&gt;50K.</td>\n",
       "    </tr>\n",
       "    <tr>\n",
       "      <th>3</th>\n",
       "      <td>44</td>\n",
       "      <td>Private</td>\n",
       "      <td>160323.0</td>\n",
       "      <td>Some-college</td>\n",
       "      <td>10.0</td>\n",
       "      <td>Married-civ-spouse</td>\n",
       "      <td>Machine-op-inspct</td>\n",
       "      <td>Husband</td>\n",
       "      <td>Black</td>\n",
       "      <td>Male</td>\n",
       "      <td>7688.0</td>\n",
       "      <td>0.0</td>\n",
       "      <td>40.0</td>\n",
       "      <td>United-States</td>\n",
       "      <td>&gt;50K.</td>\n",
       "    </tr>\n",
       "    <tr>\n",
       "      <th>4</th>\n",
       "      <td>18</td>\n",
       "      <td>NaN</td>\n",
       "      <td>103497.0</td>\n",
       "      <td>Some-college</td>\n",
       "      <td>10.0</td>\n",
       "      <td>Never-married</td>\n",
       "      <td>NaN</td>\n",
       "      <td>Own-child</td>\n",
       "      <td>White</td>\n",
       "      <td>Female</td>\n",
       "      <td>0.0</td>\n",
       "      <td>0.0</td>\n",
       "      <td>30.0</td>\n",
       "      <td>United-States</td>\n",
       "      <td>&lt;=50K.</td>\n",
       "    </tr>\n",
       "  </tbody>\n",
       "</table>\n",
       "</div>"
      ],
      "text/plain": [
       "  age  workclass    fnlwgt     education  education-num      marital-status  \\\n",
       "0  25    Private  226802.0          11th            7.0       Never-married   \n",
       "1  38    Private   89814.0       HS-grad            9.0  Married-civ-spouse   \n",
       "2  28  Local-gov  336951.0    Assoc-acdm           12.0  Married-civ-spouse   \n",
       "3  44    Private  160323.0  Some-college           10.0  Married-civ-spouse   \n",
       "4  18        NaN  103497.0  Some-college           10.0       Never-married   \n",
       "\n",
       "          occupation relationship   race     sex  capital-gain  capital-loss  \\\n",
       "0  Machine-op-inspct    Own-child  Black    Male           0.0           0.0   \n",
       "1    Farming-fishing      Husband  White    Male           0.0           0.0   \n",
       "2    Protective-serv      Husband  White    Male           0.0           0.0   \n",
       "3  Machine-op-inspct      Husband  Black    Male        7688.0           0.0   \n",
       "4                NaN    Own-child  White  Female           0.0           0.0   \n",
       "\n",
       "   hours-per-week native-country  income  \n",
       "0            40.0  United-States  <=50K.  \n",
       "1            50.0  United-States  <=50K.  \n",
       "2            40.0  United-States   >50K.  \n",
       "3            40.0  United-States   >50K.  \n",
       "4            30.0  United-States  <=50K.  "
      ]
     },
     "metadata": {},
     "output_type": "display_data"
    }
   ],
   "source": [
    "test_dataRaw = pd.read_csv('adult_test.csv', names=['age','workclass', 'fnlwgt', 'education', 'education-num', 'marital-status',\n",
    "                                                     'occupation', 'relationship', 'race', 'sex', 'capital-gain', 'capital-loss',\n",
    "                                                     'hours-per-week', 'native-country', 'income'], sep=',\\s', na_values=[\"?\"],engine='python')\n",
    "print(test_dataRaw.shape)\n",
    "test_data = test_dataRaw.drop([0])\n",
    "print(test_data.shape)\n",
    "test_data = test_data.reset_index(drop=True)\n",
    "display(test_data.head())"
   ]
  },
  {
   "cell_type": "code",
   "execution_count": 16,
   "id": "5233071f",
   "metadata": {},
   "outputs": [
    {
     "data": {
      "text/plain": [
       "age                 0\n",
       "workclass         963\n",
       "fnlwgt              0\n",
       "education           0\n",
       "education-num       0\n",
       "marital-status      0\n",
       "occupation        966\n",
       "relationship        0\n",
       "race                0\n",
       "sex                 0\n",
       "capital-gain        0\n",
       "capital-loss        0\n",
       "hours-per-week      0\n",
       "native-country    274\n",
       "income              0\n",
       "dtype: int64"
      ]
     },
     "execution_count": 16,
     "metadata": {},
     "output_type": "execute_result"
    }
   ],
   "source": [
    "## Check the null value.\n",
    "test_data.isnull().sum()"
   ]
  },
  {
   "cell_type": "code",
   "execution_count": 17,
   "id": "ec81fff8",
   "metadata": {},
   "outputs": [
    {
     "data": {
      "text/plain": [
       "(15060, 15)"
      ]
     },
     "execution_count": 17,
     "metadata": {},
     "output_type": "execute_result"
    }
   ],
   "source": [
    "new_test = test_data.dropna()\n",
    "new_test.shape"
   ]
  },
  {
   "cell_type": "code",
   "execution_count": 18,
   "id": "7a274a23",
   "metadata": {},
   "outputs": [
    {
     "data": {
      "text/plain": [
       "Private             11021\n",
       "Self-emp-not-inc     1297\n",
       "Local-gov            1033\n",
       "State-gov             667\n",
       "Self-emp-inc          572\n",
       "Federal-gov           463\n",
       "Without-pay             7\n",
       "Name: workclass, dtype: int64"
      ]
     },
     "execution_count": 18,
     "metadata": {},
     "output_type": "execute_result"
    }
   ],
   "source": [
    "new_test['workclass'].value_counts()"
   ]
  },
  {
   "cell_type": "code",
   "execution_count": 19,
   "id": "28c2839d",
   "metadata": {},
   "outputs": [
    {
     "data": {
      "text/plain": [
       "HS-grad         4943\n",
       "Some-college    3221\n",
       "Bachelors       2526\n",
       "Masters          887\n",
       "Assoc-voc        652\n",
       "11th             571\n",
       "Assoc-acdm       499\n",
       "10th             403\n",
       "7th-8th          266\n",
       "Prof-school      243\n",
       "9th              221\n",
       "12th             200\n",
       "Doctorate        169\n",
       "5th-6th          161\n",
       "1st-4th           71\n",
       "Preschool         27\n",
       "Name: education, dtype: int64"
      ]
     },
     "execution_count": 19,
     "metadata": {},
     "output_type": "execute_result"
    }
   ],
   "source": [
    "new_test['education'].value_counts()"
   ]
  },
  {
   "cell_type": "code",
   "execution_count": 20,
   "id": "16a2ece7",
   "metadata": {},
   "outputs": [
    {
     "data": {
      "text/plain": [
       "<=50K.    11360\n",
       ">50K.      3700\n",
       "Name: income, dtype: int64"
      ]
     },
     "execution_count": 20,
     "metadata": {},
     "output_type": "execute_result"
    }
   ],
   "source": [
    "new_test['income'].value_counts()"
   ]
  },
  {
   "cell_type": "code",
   "execution_count": 21,
   "id": "16bf1235",
   "metadata": {},
   "outputs": [
    {
     "name": "stderr",
     "output_type": "stream",
     "text": [
      "C:\\Users\\Sealion\\anaconda3\\envs\\python38\\lib\\site-packages\\pandas\\core\\frame.py:4906: SettingWithCopyWarning: \n",
      "A value is trying to be set on a copy of a slice from a DataFrame\n",
      "\n",
      "See the caveats in the documentation: https://pandas.pydata.org/pandas-docs/stable/user_guide/indexing.html#returning-a-view-versus-a-copy\n",
      "  return super().drop(\n"
     ]
    },
    {
     "data": {
      "text/plain": [
       "(15060, 104)"
      ]
     },
     "execution_count": 21,
     "metadata": {},
     "output_type": "execute_result"
    }
   ],
   "source": [
    "# Dummy for categorical variables (testing)\n",
    "def dummies_test(x):\n",
    "    dummy_test = pd.get_dummies(new_test[x])\n",
    "    new_test.drop(columns = x, inplace = True)\n",
    "    return pd.concat([new_test, dummy_test], axis=1)\n",
    "\n",
    "new_test = dummies_test('workclass')\n",
    "new_test = dummies_test('education')\n",
    "new_test = dummies_test('marital-status')\n",
    "new_test = dummies_test('occupation')\n",
    "new_test = dummies_test('relationship')\n",
    "new_test = dummies_test('race')\n",
    "new_test = dummies_test('sex')\n",
    "new_test = dummies_test('native-country')\n",
    "new_test.shape"
   ]
  },
  {
   "cell_type": "code",
   "execution_count": 22,
   "id": "930916ab",
   "metadata": {},
   "outputs": [
    {
     "data": {
      "text/plain": [
       "Index(['age', 'fnlwgt', 'education-num', 'capital-gain', 'capital-loss',\n",
       "       'hours-per-week', 'income', 'Federal-gov', 'Local-gov', 'Private',\n",
       "       ...\n",
       "       'Portugal', 'Puerto-Rico', 'Scotland', 'South', 'Taiwan', 'Thailand',\n",
       "       'Trinadad&Tobago', 'United-States', 'Vietnam', 'Yugoslavia'],\n",
       "      dtype='object', length=104)"
      ]
     },
     "execution_count": 22,
     "metadata": {},
     "output_type": "execute_result"
    }
   ],
   "source": [
    "new_test.columns"
   ]
  },
  {
   "cell_type": "code",
   "execution_count": 23,
   "id": "f2ec1756",
   "metadata": {},
   "outputs": [
    {
     "data": {
      "text/plain": [
       "(15060, 104)"
      ]
     },
     "execution_count": 23,
     "metadata": {},
     "output_type": "execute_result"
    }
   ],
   "source": [
    "## Transfer column income to binary variable.\n",
    "new_test['income'] = new_test['income'].apply(lambda x:1 if x =='>=50K.' or x =='>50K.' else 0)\n",
    "new_test.shape"
   ]
  },
  {
   "cell_type": "code",
   "execution_count": 24,
   "id": "9b283797",
   "metadata": {},
   "outputs": [
    {
     "data": {
      "text/plain": [
       "['Holand-Netherlands']"
      ]
     },
     "execution_count": 24,
     "metadata": {},
     "output_type": "execute_result"
    }
   ],
   "source": [
    "## Check the column difference between train and test data\n",
    "extra_column = [x for x in list(new_train.columns) if x not in list(new_test.columns)]\n",
    "extra_column"
   ]
  },
  {
   "cell_type": "code",
   "execution_count": 25,
   "id": "cce6b3da",
   "metadata": {},
   "outputs": [
    {
     "data": {
      "text/plain": [
       "(15060, 105)"
      ]
     },
     "execution_count": 25,
     "metadata": {},
     "output_type": "execute_result"
    }
   ],
   "source": [
    "new_test['Holand-Netherlands'] = 0\n",
    "new_test.shape"
   ]
  },
  {
   "cell_type": "markdown",
   "id": "e0fadee8",
   "metadata": {},
   "source": [
    "## (1). XGBOOST Classifier (Model)"
   ]
  },
  {
   "cell_type": "code",
   "execution_count": 27,
   "id": "b42ec8c0",
   "metadata": {},
   "outputs": [
    {
     "data": {
      "text/plain": [
       "((30162, 104), (30162,), (15060, 104), (15060,))"
      ]
     },
     "execution_count": 27,
     "metadata": {},
     "output_type": "execute_result"
    }
   ],
   "source": [
    "X_train, Y_train = np.asarray(new_train.loc[:, new_train.columns !='income']).astype(np.float32), np.asarray(new_train['income']).astype(np.float32)\n",
    "X_test, Y_test = np.asarray(new_test.loc[:, new_test.columns !='income']).astype(np.float32), np.asarray(new_test['income']).astype(np.float32)\n",
    "\n",
    "X_train.shape, Y_train.shape, X_test.shape, Y_test.shape"
   ]
  },
  {
   "cell_type": "code",
   "execution_count": 28,
   "id": "ffd67391",
   "metadata": {
    "scrolled": true
   },
   "outputs": [
    {
     "name": "stderr",
     "output_type": "stream",
     "text": [
      "C:\\Users\\Sealion\\anaconda3\\envs\\python38\\lib\\site-packages\\xgboost\\sklearn.py:1146: UserWarning: The use of label encoder in XGBClassifier is deprecated and will be removed in a future release. To remove this warning, do the following: 1) Pass option use_label_encoder=False when constructing XGBClassifier object; and 2) Encode your labels (y) as integers starting with 0, i.e. 0, 1, 2, ..., [num_class - 1].\n",
      "  warnings.warn(label_encoder_deprecation_msg, UserWarning)\n"
     ]
    },
    {
     "data": {
      "text/plain": [
       "XGBClassifier(base_score=0.5, booster='gbtree', colsample_bylevel=1,\n",
       "              colsample_bynode=1, colsample_bytree=1, gamma=0, gpu_id=-1,\n",
       "              importance_type='gain', interaction_constraints='',\n",
       "              learning_rate=0.1, max_delta_step=0, max_depth=5,\n",
       "              min_child_weight=1, missing=nan, monotone_constraints='()',\n",
       "              n_estimators=100, n_jobs=32, num_parallel_tree=1,\n",
       "              objective='reg:squarederror', random_state=0, reg_alpha=0,\n",
       "              reg_lambda=1, scale_pos_weight=1, subsample=1,\n",
       "              tree_method='exact', validate_parameters=1, verbosity=None)"
      ]
     },
     "execution_count": 28,
     "metadata": {},
     "output_type": "execute_result"
    }
   ],
   "source": [
    "import xgboost as xgb\n",
    "model1 = xgb.XGBClassifier(objective ='reg:squarederror', learning_rate = 0.1, max_depth = 5, n_estimators = 100)\n",
    "model1.fit(X_train, Y_train)"
   ]
  },
  {
   "cell_type": "code",
   "execution_count": 29,
   "id": "3456d492",
   "metadata": {},
   "outputs": [
    {
     "data": {
      "text/plain": [
       "XGBClassifier(base_score=0.5, booster='gbtree', colsample_bylevel=1,\n",
       "              colsample_bynode=1, colsample_bytree=1, gamma=0, gpu_id=-1,\n",
       "              importance_type='gain', interaction_constraints='',\n",
       "              learning_rate=0.1, max_delta_step=0, max_depth=5,\n",
       "              min_child_weight=1, missing=nan, monotone_constraints='()',\n",
       "              n_estimators=100, n_jobs=32, num_parallel_tree=1,\n",
       "              objective='reg:squarederror', random_state=0, reg_alpha=0,\n",
       "              reg_lambda=1, scale_pos_weight=1, subsample=1,\n",
       "              tree_method='exact', validate_parameters=1, verbosity=None)"
      ]
     },
     "execution_count": 29,
     "metadata": {},
     "output_type": "execute_result"
    }
   ],
   "source": [
    "model1"
   ]
  },
  {
   "cell_type": "code",
   "execution_count": 30,
   "id": "94c86ced",
   "metadata": {},
   "outputs": [
    {
     "name": "stdout",
     "output_type": "stream",
     "text": [
      "Accuracy 86.71314741035857 %\n"
     ]
    }
   ],
   "source": [
    "Y_pred = model1.predict(X_test)\n",
    "print(\"Accuracy {} %\".format( 100 * accuracy_score(Y_pred, Y_test)))"
   ]
  },
  {
   "cell_type": "markdown",
   "id": "d832d0cd",
   "metadata": {},
   "source": [
    "## (2). Logistic Regression (Model)"
   ]
  },
  {
   "cell_type": "code",
   "execution_count": 32,
   "id": "e6769b42",
   "metadata": {},
   "outputs": [
    {
     "name": "stdout",
     "output_type": "stream",
     "text": [
      "Accuracy 79.2828685258964 %\n"
     ]
    }
   ],
   "source": [
    "from sklearn.linear_model import LogisticRegression\n",
    "model2 = LogisticRegression(random_state = 0, penalty = 'l2')\n",
    "model2.fit(X_train, Y_train)\n",
    "Y_pred2 = model2.predict(X_test)\n",
    "print(\"Accuracy {} %\".format( 100 * accuracy_score(Y_pred2, Y_test)))"
   ]
  },
  {
   "cell_type": "markdown",
   "id": "5f1c2b6b",
   "metadata": {},
   "source": [
    "## (3).SVM (Model)"
   ]
  },
  {
   "cell_type": "code",
   "execution_count": 33,
   "id": "87e99c2a",
   "metadata": {},
   "outputs": [
    {
     "name": "stdout",
     "output_type": "stream",
     "text": [
      "Accuracy 79.03054448871181 %\n"
     ]
    }
   ],
   "source": [
    "## SVM (rbf)\n",
    "from sklearn.svm import SVC\n",
    "model3 = SVC(random_state = 0, kernel = 'rbf')\n",
    "model3.fit(X_train, Y_train)\n",
    "\n",
    "# Predicting Test Set\n",
    "y_pred3 = model3.predict(X_test)\n",
    "print(\"Accuracy {} %\".format( 100 * accuracy_score(y_pred3, Y_test)))"
   ]
  },
  {
   "cell_type": "markdown",
   "id": "9d89a2c1",
   "metadata": {},
   "source": [
    "## (4). Random Forest (Model)"
   ]
  },
  {
   "cell_type": "code",
   "execution_count": 34,
   "id": "765c0e5f",
   "metadata": {},
   "outputs": [
    {
     "data": {
      "text/plain": [
       "0.8544488711819389"
      ]
     },
     "execution_count": 34,
     "metadata": {},
     "output_type": "execute_result"
    }
   ],
   "source": [
    "from sklearn.ensemble import RandomForestClassifier\n",
    "model4 = RandomForestClassifier(n_estimators=100)\n",
    "model4.fit(X_train, Y_train)\n",
    "\n",
    "y_pred4 = model4.predict(X_test)\n",
    "model4.score(X_test, Y_test)\n",
    "# print(\"Accuracy {} %\".format( 100 * accuracy_score(y_pred4, Y_test)))"
   ]
  },
  {
   "cell_type": "markdown",
   "id": "550b0c84",
   "metadata": {},
   "source": [
    "## (5) Deep Nueral Network"
   ]
  },
  {
   "cell_type": "code",
   "execution_count": 35,
   "id": "963b61ce",
   "metadata": {},
   "outputs": [
    {
     "name": "stdout",
     "output_type": "stream",
     "text": [
      "Model: \"sequential\"\n",
      "_________________________________________________________________\n",
      "Layer (type)                 Output Shape              Param #   \n",
      "=================================================================\n",
      "dense (Dense)                (None, 16)                1680      \n",
      "_________________________________________________________________\n",
      "dense_1 (Dense)              (None, 24)                408       \n",
      "_________________________________________________________________\n",
      "dropout (Dropout)            (None, 24)                0         \n",
      "_________________________________________________________________\n",
      "dense_2 (Dense)              (None, 20)                500       \n",
      "_________________________________________________________________\n",
      "dense_3 (Dense)              (None, 24)                504       \n",
      "_________________________________________________________________\n",
      "dense_4 (Dense)              (None, 1)                 25        \n",
      "=================================================================\n",
      "Total params: 3,117\n",
      "Trainable params: 3,117\n",
      "Non-trainable params: 0\n",
      "_________________________________________________________________\n"
     ]
    }
   ],
   "source": [
    "## Deep Nueral Network\n",
    "from tensorflow.keras.models import Sequential\n",
    "from tensorflow.keras.layers import Dense\n",
    "from tensorflow.keras.layers import Dropout\n",
    "model_5 = Sequential([\n",
    "    Dense(units=16, input_dim = 104,activation='relu'),\n",
    "    Dense(units=24,activation='relu'),\n",
    "    Dropout(0.5),\n",
    "    Dense(20,activation='relu'),\n",
    "    Dense(24,activation='relu'),\n",
    "    Dense(1,activation='sigmoid'),\n",
    "])\n",
    "model_5.summary()"
   ]
  },
  {
   "cell_type": "code",
   "execution_count": 36,
   "id": "2d42b2bb",
   "metadata": {},
   "outputs": [
    {
     "name": "stdout",
     "output_type": "stream",
     "text": [
      "Epoch 1/25\n",
      "WARNING:tensorflow:AutoGraph could not transform <function Model.make_train_function.<locals>.train_function at 0x0000026A079984C0> and will run it as-is.\n",
      "Please report this to the TensorFlow team. When filing the bug, set the verbosity to 10 (on Linux, `export AUTOGRAPH_VERBOSITY=10`) and attach the full output.\n",
      "Cause: unsupported operand type(s) for -: 'NoneType' and 'int'\n",
      "To silence this warning, decorate the function with @tf.autograph.experimental.do_not_convert\n",
      "WARNING: AutoGraph could not transform <function Model.make_train_function.<locals>.train_function at 0x0000026A079984C0> and will run it as-is.\n",
      "Please report this to the TensorFlow team. When filing the bug, set the verbosity to 10 (on Linux, `export AUTOGRAPH_VERBOSITY=10`) and attach the full output.\n",
      "Cause: unsupported operand type(s) for -: 'NoneType' and 'int'\n",
      "To silence this warning, decorate the function with @tf.autograph.experimental.do_not_convert\n",
      "1509/1509 [==============================] - 4s 2ms/step - loss: 29.9857 - accuracy: 0.6540\n",
      "Epoch 2/25\n",
      "1509/1509 [==============================] - 3s 2ms/step - loss: 0.9669 - accuracy: 0.7205\n",
      "Epoch 3/25\n",
      "1509/1509 [==============================] - 3s 2ms/step - loss: 0.5797 - accuracy: 0.7611\n",
      "Epoch 4/25\n",
      "1509/1509 [==============================] - 3s 2ms/step - loss: 0.5593 - accuracy: 0.7575\n",
      "Epoch 5/25\n",
      "1509/1509 [==============================] - 3s 2ms/step - loss: 0.5881 - accuracy: 0.7567\n",
      "Epoch 6/25\n",
      "1509/1509 [==============================] - 3s 2ms/step - loss: 0.5658 - accuracy: 0.7556\n",
      "Epoch 7/25\n",
      "1509/1509 [==============================] - 3s 2ms/step - loss: 0.6115 - accuracy: 0.7550\n",
      "Epoch 8/25\n",
      "1509/1509 [==============================] - 3s 2ms/step - loss: 0.5555 - accuracy: 0.7553\n",
      "Epoch 9/25\n",
      "1509/1509 [==============================] - 3s 2ms/step - loss: 0.5580 - accuracy: 0.7542\n",
      "Epoch 10/25\n",
      "1509/1509 [==============================] - 3s 2ms/step - loss: 0.5648 - accuracy: 0.7537\n",
      "Epoch 11/25\n",
      "1509/1509 [==============================] - 3s 2ms/step - loss: 0.5622 - accuracy: 0.7546\n",
      "Epoch 12/25\n",
      "1509/1509 [==============================] - 3s 2ms/step - loss: 0.5553 - accuracy: 0.7560\n",
      "Epoch 13/25\n",
      "1509/1509 [==============================] - 3s 2ms/step - loss: 0.5651 - accuracy: 0.7543\n",
      "Epoch 14/25\n",
      "1509/1509 [==============================] - 4s 2ms/step - loss: 0.5576 - accuracy: 0.7537\n",
      "Epoch 15/25\n",
      "1509/1509 [==============================] - 3s 2ms/step - loss: 0.5570 - accuracy: 0.7542\n",
      "Epoch 16/25\n",
      "1509/1509 [==============================] - 4s 2ms/step - loss: 0.5668 - accuracy: 0.7520\n",
      "Epoch 17/25\n",
      "1509/1509 [==============================] - 4s 2ms/step - loss: 0.5595 - accuracy: 0.7524\n",
      "Epoch 18/25\n",
      "1509/1509 [==============================] - 3s 2ms/step - loss: 0.5629 - accuracy: 0.7518\n",
      "Epoch 19/25\n",
      "1509/1509 [==============================] - 3s 2ms/step - loss: 0.5607 - accuracy: 0.7515\n",
      "Epoch 20/25\n",
      "1509/1509 [==============================] - 3s 2ms/step - loss: 0.5609 - accuracy: 0.7514\n",
      "Epoch 21/25\n",
      "1509/1509 [==============================] - 3s 2ms/step - loss: 0.5635 - accuracy: 0.7518\n",
      "Epoch 22/25\n",
      "1509/1509 [==============================] - 3s 2ms/step - loss: 0.5606 - accuracy: 0.7515\n",
      "Epoch 23/25\n",
      "1509/1509 [==============================] - 3s 2ms/step - loss: 0.5608 - accuracy: 0.7515\n",
      "Epoch 24/25\n",
      "1509/1509 [==============================] - 3s 2ms/step - loss: 0.5606 - accuracy: 0.7515\n",
      "Epoch 25/25\n",
      "1509/1509 [==============================] - 3s 2ms/step - loss: 0.5607 - accuracy: 0.7515\n",
      "WARNING:tensorflow:AutoGraph could not transform <function Model.make_test_function.<locals>.test_function at 0x0000026A07A8A3A0> and will run it as-is.\n",
      "Please report this to the TensorFlow team. When filing the bug, set the verbosity to 10 (on Linux, `export AUTOGRAPH_VERBOSITY=10`) and attach the full output.\n",
      "Cause: unsupported operand type(s) for -: 'NoneType' and 'int'\n",
      "To silence this warning, decorate the function with @tf.autograph.experimental.do_not_convert\n",
      "WARNING: AutoGraph could not transform <function Model.make_test_function.<locals>.test_function at 0x0000026A07A8A3A0> and will run it as-is.\n",
      "Please report this to the TensorFlow team. When filing the bug, set the verbosity to 10 (on Linux, `export AUTOGRAPH_VERBOSITY=10`) and attach the full output.\n",
      "Cause: unsupported operand type(s) for -: 'NoneType' and 'int'\n",
      "To silence this warning, decorate the function with @tf.autograph.experimental.do_not_convert\n",
      "471/471 [==============================] - 1s 1ms/step - loss: 0.5568 - accuracy: 0.7552\n",
      "[0.5568211674690247, 0.7551792860031128]\n"
     ]
    }
   ],
   "source": [
    "# Train model\n",
    "model_5.compile(optimizer='adam', loss='binary_crossentropy', metrics=['accuracy'])\n",
    "model_5.fit(X_train, Y_train, batch_size=20, epochs=25)\n",
    "score_5 = model_5.evaluate(X_test, Y_test)\n",
    "print(score_5)"
   ]
  },
  {
   "cell_type": "markdown",
   "id": "dce7e95f",
   "metadata": {},
   "source": [
    "## (6). Artificial Neural Network Model (ANN)"
   ]
  },
  {
   "cell_type": "code",
   "execution_count": 37,
   "id": "4e3c3fdb",
   "metadata": {},
   "outputs": [],
   "source": [
    "## ANN\n",
    "from tensorflow.keras.models import Sequential\n",
    "from tensorflow.keras.layers import Dense\n",
    "from tensorflow.keras.layers import Dropout"
   ]
  },
  {
   "cell_type": "code",
   "execution_count": 38,
   "id": "055c0f70",
   "metadata": {},
   "outputs": [],
   "source": [
    "# import tensorflow as tf\n",
    "from tensorflow import keras\n",
    "from tensorflow.keras.layers import Dense, Activation, Dropout, BatchNormalization\n",
    "from tensorflow.keras.optimizers import Adam"
   ]
  },
  {
   "cell_type": "code",
   "execution_count": 39,
   "id": "dcdb7eaf",
   "metadata": {},
   "outputs": [
    {
     "name": "stdout",
     "output_type": "stream",
     "text": [
      "Model: \"sequential_1\"\n",
      "_________________________________________________________________\n",
      "Layer (type)                 Output Shape              Param #   \n",
      "=================================================================\n",
      "dense_5 (Dense)              (None, 50)                5250      \n",
      "_________________________________________________________________\n",
      "activation (Activation)      (None, 50)                0         \n",
      "_________________________________________________________________\n",
      "dense_6 (Dense)              (None, 150)               7650      \n",
      "_________________________________________________________________\n",
      "activation_1 (Activation)    (None, 150)               0         \n",
      "_________________________________________________________________\n",
      "dropout_1 (Dropout)          (None, 150)               0         \n",
      "_________________________________________________________________\n",
      "dense_7 (Dense)              (None, 150)               22650     \n",
      "_________________________________________________________________\n",
      "activation_2 (Activation)    (None, 150)               0         \n",
      "_________________________________________________________________\n",
      "dropout_2 (Dropout)          (None, 150)               0         \n",
      "_________________________________________________________________\n",
      "dense_8 (Dense)              (None, 50)                7550      \n",
      "_________________________________________________________________\n",
      "activation_3 (Activation)    (None, 50)                0         \n",
      "_________________________________________________________________\n",
      "dense_9 (Dense)              (None, 1)                 51        \n",
      "=================================================================\n",
      "Total params: 43,151\n",
      "Trainable params: 43,151\n",
      "Non-trainable params: 0\n",
      "_________________________________________________________________\n"
     ]
    }
   ],
   "source": [
    "# optimizer = Adam()\n",
    "ANN_model = keras.Sequential()\n",
    "ANN_model.add(Dense(50, input_dim = 104))\n",
    "ANN_model.add(Activation('relu'))\n",
    "ANN_model.add(Dense(150))\n",
    "ANN_model.add(Activation('relu'))\n",
    "ANN_model.add(Dropout(0.5))\n",
    "ANN_model.add(Dense(150))\n",
    "ANN_model.add(Activation('relu'))\n",
    "ANN_model.add(Dropout(0.3))\n",
    "ANN_model.add(Dense(50))\n",
    "ANN_model.add(Activation('linear'))\n",
    "ANN_model.add(Dense(1))\n",
    "ANN_model.compile(loss = 'mse', optimizer = 'adam')\n",
    "ANN_model.summary()"
   ]
  },
  {
   "cell_type": "code",
   "execution_count": 40,
   "id": "5119b243",
   "metadata": {},
   "outputs": [
    {
     "name": "stdout",
     "output_type": "stream",
     "text": [
      "Epoch 1/50\n",
      "WARNING:tensorflow:AutoGraph could not transform <function Model.make_train_function.<locals>.train_function at 0x0000026A08495790> and will run it as-is.\n",
      "Please report this to the TensorFlow team. When filing the bug, set the verbosity to 10 (on Linux, `export AUTOGRAPH_VERBOSITY=10`) and attach the full output.\n",
      "Cause: unsupported operand type(s) for -: 'NoneType' and 'int'\n",
      "To silence this warning, decorate the function with @tf.autograph.experimental.do_not_convert\n",
      "WARNING: AutoGraph could not transform <function Model.make_train_function.<locals>.train_function at 0x0000026A08495790> and will run it as-is.\n",
      "Please report this to the TensorFlow team. When filing the bug, set the verbosity to 10 (on Linux, `export AUTOGRAPH_VERBOSITY=10`) and attach the full output.\n",
      "Cause: unsupported operand type(s) for -: 'NoneType' and 'int'\n",
      "To silence this warning, decorate the function with @tf.autograph.experimental.do_not_convert\n",
      "1190/1207 [============================>.] - ETA: 0s - loss: 1833069.5000WARNING:tensorflow:AutoGraph could not transform <function Model.make_test_function.<locals>.test_function at 0x0000026A085A7C10> and will run it as-is.\n",
      "Please report this to the TensorFlow team. When filing the bug, set the verbosity to 10 (on Linux, `export AUTOGRAPH_VERBOSITY=10`) and attach the full output.\n",
      "Cause: unsupported operand type(s) for -: 'NoneType' and 'int'\n",
      "To silence this warning, decorate the function with @tf.autograph.experimental.do_not_convert\n",
      "WARNING: AutoGraph could not transform <function Model.make_test_function.<locals>.test_function at 0x0000026A085A7C10> and will run it as-is.\n",
      "Please report this to the TensorFlow team. When filing the bug, set the verbosity to 10 (on Linux, `export AUTOGRAPH_VERBOSITY=10`) and attach the full output.\n",
      "Cause: unsupported operand type(s) for -: 'NoneType' and 'int'\n",
      "To silence this warning, decorate the function with @tf.autograph.experimental.do_not_convert\n",
      "1207/1207 [==============================] - 3s 2ms/step - loss: 1808146.2500 - val_loss: 99.1351\n",
      "Epoch 2/50\n",
      "1207/1207 [==============================] - 3s 2ms/step - loss: 2852.8293 - val_loss: 11.7456\n",
      "Epoch 3/50\n",
      "1207/1207 [==============================] - 3s 2ms/step - loss: 555.6499 - val_loss: 2.1005\n",
      "Epoch 4/50\n",
      "1207/1207 [==============================] - 3s 2ms/step - loss: 382.0197 - val_loss: 1.4291\n",
      "Epoch 5/50\n",
      "1207/1207 [==============================] - 3s 2ms/step - loss: 861.2953 - val_loss: 19.6624\n",
      "Epoch 6/50\n",
      "1207/1207 [==============================] - 3s 2ms/step - loss: 716.5668 - val_loss: 0.5217\n",
      "Epoch 7/50\n",
      "1207/1207 [==============================] - 3s 2ms/step - loss: 12.0786 - val_loss: 1.1550\n",
      "Epoch 8/50\n",
      "1207/1207 [==============================] - 3s 2ms/step - loss: 123.6281 - val_loss: 0.3544\n",
      "Epoch 9/50\n",
      "1207/1207 [==============================] - 3s 2ms/step - loss: 22.4795 - val_loss: 0.1998\n",
      "Epoch 10/50\n",
      "1207/1207 [==============================] - 3s 2ms/step - loss: 13.4096 - val_loss: 0.1903\n",
      "Epoch 11/50\n",
      "1207/1207 [==============================] - 3s 2ms/step - loss: 8.0007 - val_loss: 0.1933\n",
      "Epoch 12/50\n",
      "1207/1207 [==============================] - 3s 2ms/step - loss: 5329.3970 - val_loss: 0.2385\n",
      "Epoch 13/50\n",
      "1207/1207 [==============================] - 3s 2ms/step - loss: 141.3850 - val_loss: 0.2053\n",
      "Epoch 14/50\n",
      "1207/1207 [==============================] - 3s 2ms/step - loss: 8.8575 - val_loss: 0.1944\n",
      "Epoch 15/50\n",
      "1207/1207 [==============================] - 3s 2ms/step - loss: 33.4269 - val_loss: 0.1919\n",
      "Epoch 16/50\n",
      "1207/1207 [==============================] - 3s 2ms/step - loss: 0.2876 - val_loss: 0.1895\n",
      "Epoch 17/50\n",
      "1207/1207 [==============================] - 3s 2ms/step - loss: 0.1912 - val_loss: 0.1896\n",
      "Epoch 18/50\n",
      "1207/1207 [==============================] - 3s 2ms/step - loss: 0.2093 - val_loss: 0.1896\n",
      "Epoch 19/50\n",
      "1207/1207 [==============================] - 3s 2ms/step - loss: 0.1940 - val_loss: 0.1899\n",
      "Epoch 20/50\n",
      "1207/1207 [==============================] - 3s 2ms/step - loss: 0.1929 - val_loss: 0.1901\n",
      "Epoch 21/50\n",
      "1207/1207 [==============================] - 3s 2ms/step - loss: 2.6294 - val_loss: 0.1897\n",
      "Epoch 22/50\n",
      "1207/1207 [==============================] - 3s 2ms/step - loss: 0.1865 - val_loss: 0.1896\n",
      "Epoch 23/50\n",
      "1207/1207 [==============================] - 3s 2ms/step - loss: 54.8042 - val_loss: 0.1896\n",
      "Epoch 24/50\n",
      "1207/1207 [==============================] - 3s 2ms/step - loss: 424.2473 - val_loss: 0.1921\n",
      "Epoch 25/50\n",
      "1207/1207 [==============================] - 3s 2ms/step - loss: 258.9510 - val_loss: 0.1895\n",
      "Epoch 26/50\n",
      "1207/1207 [==============================] - 3s 2ms/step - loss: 0.1865 - val_loss: 0.1895\n",
      "Epoch 27/50\n",
      "1207/1207 [==============================] - 3s 2ms/step - loss: 0.1865 - val_loss: 0.1896\n",
      "Epoch 28/50\n",
      "1207/1207 [==============================] - 3s 2ms/step - loss: 0.1864 - val_loss: 0.1896\n",
      "Epoch 29/50\n",
      "1207/1207 [==============================] - 3s 2ms/step - loss: 0.1863 - val_loss: 0.1896\n",
      "Epoch 30/50\n",
      "1207/1207 [==============================] - 3s 2ms/step - loss: 0.1864 - val_loss: 0.1896\n",
      "Epoch 31/50\n",
      "1207/1207 [==============================] - 3s 2ms/step - loss: 0.2592 - val_loss: 0.1898\n",
      "Epoch 32/50\n",
      "1207/1207 [==============================] - 3s 2ms/step - loss: 0.1865 - val_loss: 0.1899\n",
      "Epoch 33/50\n",
      "1207/1207 [==============================] - 3s 2ms/step - loss: 0.1865 - val_loss: 0.1899\n",
      "Epoch 34/50\n",
      "1207/1207 [==============================] - 3s 2ms/step - loss: 0.1865 - val_loss: 0.1895\n",
      "Epoch 35/50\n",
      "1207/1207 [==============================] - 3s 2ms/step - loss: 0.1865 - val_loss: 0.1896\n",
      "Epoch 36/50\n",
      "1207/1207 [==============================] - 3s 2ms/step - loss: 0.1865 - val_loss: 0.1896\n",
      "Epoch 37/50\n",
      "1207/1207 [==============================] - 3s 2ms/step - loss: 0.1866 - val_loss: 0.1897\n",
      "Epoch 38/50\n",
      "1207/1207 [==============================] - 3s 2ms/step - loss: 0.1865 - val_loss: 0.1895\n",
      "Epoch 39/50\n",
      "1207/1207 [==============================] - 3s 2ms/step - loss: 0.1865 - val_loss: 0.1895\n",
      "Epoch 40/50\n",
      "1207/1207 [==============================] - 3s 2ms/step - loss: 0.1864 - val_loss: 0.1900\n",
      "Epoch 41/50\n",
      "1207/1207 [==============================] - 3s 2ms/step - loss: 0.1865 - val_loss: 0.1897\n",
      "Epoch 42/50\n",
      "1207/1207 [==============================] - 3s 2ms/step - loss: 0.1865 - val_loss: 0.1899\n",
      "Epoch 43/50\n",
      "1207/1207 [==============================] - 3s 2ms/step - loss: 0.1865 - val_loss: 0.1895\n",
      "Epoch 44/50\n",
      "1207/1207 [==============================] - 3s 2ms/step - loss: 0.1865 - val_loss: 0.1901\n",
      "Epoch 45/50\n",
      "1207/1207 [==============================] - 3s 2ms/step - loss: 0.1865 - val_loss: 0.1901\n",
      "Epoch 46/50\n",
      "1207/1207 [==============================] - 3s 2ms/step - loss: 0.1865 - val_loss: 0.1903\n",
      "Epoch 47/50\n",
      "1207/1207 [==============================] - 3s 2ms/step - loss: 0.1866 - val_loss: 0.1900\n",
      "Epoch 48/50\n",
      "1207/1207 [==============================] - 3s 2ms/step - loss: 0.1866 - val_loss: 0.1895\n",
      "Epoch 49/50\n",
      "1207/1207 [==============================] - 3s 2ms/step - loss: 0.1865 - val_loss: 0.1910\n",
      "Epoch 50/50\n",
      "1207/1207 [==============================] - 3s 2ms/step - loss: 0.1866 - val_loss: 0.1897\n"
     ]
    }
   ],
   "source": [
    "ANN_model.compile(optimizer='Adam', loss='mean_squared_error')\n",
    "epochs_hist = ANN_model.fit(X_train, Y_train, epochs = 50, batch_size = 20, validation_split = 0.2)"
   ]
  },
  {
   "cell_type": "code",
   "execution_count": 41,
   "id": "943da715",
   "metadata": {},
   "outputs": [
    {
     "name": "stdout",
     "output_type": "stream",
     "text": [
      "471/471 [==============================] - 1s 1ms/step - loss: 0.1858\n",
      "Accuracy : 0.8141995221376419\n"
     ]
    }
   ],
   "source": [
    "result = ANN_model.evaluate(X_test, Y_test)\n",
    "accuracy_ANN = 1 - result\n",
    "print(\"Accuracy : {}\".format(accuracy_ANN))"
   ]
  },
  {
   "cell_type": "code",
   "execution_count": null,
   "id": "7926caea",
   "metadata": {},
   "outputs": [],
   "source": []
  }
 ],
 "metadata": {
  "kernelspec": {
   "display_name": "Python 3 (ipykernel)",
   "language": "python",
   "name": "python3"
  },
  "language_info": {
   "codemirror_mode": {
    "name": "ipython",
    "version": 3
   },
   "file_extension": ".py",
   "mimetype": "text/x-python",
   "name": "python",
   "nbconvert_exporter": "python",
   "pygments_lexer": "ipython3",
   "version": "3.8.11"
  },
  "varInspector": {
   "cols": {
    "lenName": 16,
    "lenType": 16,
    "lenVar": 40
   },
   "kernels_config": {
    "python": {
     "delete_cmd_postfix": "",
     "delete_cmd_prefix": "del ",
     "library": "var_list.py",
     "varRefreshCmd": "print(var_dic_list())"
    },
    "r": {
     "delete_cmd_postfix": ") ",
     "delete_cmd_prefix": "rm(",
     "library": "var_list.r",
     "varRefreshCmd": "cat(var_dic_list()) "
    }
   },
   "types_to_exclude": [
    "module",
    "function",
    "builtin_function_or_method",
    "instance",
    "_Feature"
   ],
   "window_display": false
  }
 },
 "nbformat": 4,
 "nbformat_minor": 5
}
